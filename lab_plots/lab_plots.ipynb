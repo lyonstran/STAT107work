{
 "cells": [
  {
   "attachments": {},
   "cell_type": "markdown",
   "metadata": {},
   "source": [
    "# Welcome to Lab_Plots! 🕵🏻‍♂️ 📊 🕵🏻‍♀️\n",
    "\n",
    "Fun fact: the salaries of the employees at the University of Illinois are **publicly available**! We have curated this data in a **cleaned dataset** for you to explore.  The goal of this lab is to work with **real UIUC salary data** to explore its properties, answer important questions, and to think about the implications of collecting and analyzing this data.  Throughout the lab, it is important to think about being a critical consumer of data who can not only use statistics and programming to analyze data but can also think about the **\"why\"** part of data science both in the classroom and in the world. Let’s get started!\n",
    "\n",
    "In this lab, you will:\n",
    "- Work with real UIUC salary data to explore some of the statistics that we talked about in lecture: mean, median, standard deviation, etc.\n",
    "- Practice creating plots to **visualize quantitative data**: boxplots and histograms.\n",
    "- See how data science can be used in the real world to think about important issues through written individual reflections and discussions with your group.\n",
    "\n",
    "A few tips to remember:\n",
    "\n",
    "- **You are not alone on your journey in learning programming!**  You have your lab TA, the CAs, your lab group, and the professors (Prof. Wade and Prof. Karle), who are all here to help you out!\n",
    "- If you find yourself stuck for more than a few minutes, ask a neighbor or course staff for help!  When you are giving help to your neighbor, explain the **idea and approach** to the problem without sharing the answer itself so they can have the same **<i>ah-hah</i>** moment!\n",
    "- We are here to help you!  Don't feel embarrassed or shy to ask us for help!\n",
    "\n",
    "Let's get started!\n"
   ]
  },
  {
   "cell_type": "markdown",
   "metadata": {},
   "source": [
    "<hr style=\"color: #DD3403;\">"
   ]
  },
  {
   "cell_type": "code",
   "execution_count": 58,
   "metadata": {},
   "outputs": [],
   "source": [
    "# Meet your CAs and TA if you haven't already!\n",
    "# First name is enough, we'll know who they are! :)\n",
    "ta_name = \"Xiaocong\"\n",
    "ca1_name = \"Aishwarya\"\n",
    "ca2_name = \"Shannon\"\n",
    "\n",
    "\n",
    "# Work with your group again this week! \n",
    "#\n",
    "# QOTD to Ask Your Group: \"What was your favorite childhood game?\"\n",
    "partner1_name = \"John\"\n",
    "partner1_netid = \"jvasi2\"\n",
    "partner1_fav_game = \"Fifa\"\n",
    "\n",
    "partner2_name = \"Eric\"\n",
    "partner2_netid = \"ericrz2\"\n",
    "partner2_fav_game = \"Chess\"\n",
    "\n",
    "partner3_name = \"\"\n",
    "partner3_netid = \"\"\n",
    "partner3_fav_game = \"\""
   ]
  },
  {
   "cell_type": "markdown",
   "metadata": {},
   "source": [
    "<hr style=\"color: #DD3403;\">"
   ]
  },
  {
   "attachments": {},
   "cell_type": "markdown",
   "metadata": {},
   "source": [
    "## Setup: Import the Graybook Dataset\n",
    "\n",
    "The \"Gray Book\" is historical term for the book of \"Academic and Administrative Appointments\".  As a public university, all academic positions (including academic title, tenure status, and salary) at UIUC are publicly approved by the Board of Trustees.  After approval, they are published publicly at [https://www.bot.uillinois.edu/resources/gray_book](https://www.bot.uillinois.edu/resources/gray_book).\n",
    "\n",
    "We have parsed the HTML tables and done a little data cleaning for you. The \"Graybook Dataset\" provided here includes all faculty (except for the Division of Collegiate Athletics, for salary outlier reasons) at the University of Illinois, based on the **2022-2023 Graybook report**.  A CSV version of this dataset is available at the following URL:\n",
    "\n",
    "```\n",
    "https://waf.cs.illinois.edu/discovery/graybook-fa23.csv\n",
    "```\n",
    "\n",
    "Import `pandas` and load this dataset into a DataFrame, `df`:"
   ]
  },
  {
   "cell_type": "code",
   "execution_count": 59,
   "metadata": {
    "deletable": false,
    "nbgrader": {
     "cell_type": "code",
     "checksum": "40a9b55a4721908243d995f8d7f2fbb7",
     "grade": false,
     "grade_id": "cell-27971beecac131cc",
     "locked": false,
     "schema_version": 3,
     "solution": true,
     "task": false
    }
   },
   "outputs": [
    {
     "data": {
      "text/html": [
       "<div>\n",
       "<style scoped>\n",
       "    .dataframe tbody tr th:only-of-type {\n",
       "        vertical-align: middle;\n",
       "    }\n",
       "\n",
       "    .dataframe tbody tr th {\n",
       "        vertical-align: top;\n",
       "    }\n",
       "\n",
       "    .dataframe thead th {\n",
       "        text-align: right;\n",
       "    }\n",
       "</style>\n",
       "<table border=\"1\" class=\"dataframe\">\n",
       "  <thead>\n",
       "    <tr style=\"text-align: right;\">\n",
       "      <th></th>\n",
       "      <th>Employee Name</th>\n",
       "      <th>Job Title</th>\n",
       "      <th>Tenure</th>\n",
       "      <th>Empl Class</th>\n",
       "      <th>Present FTE</th>\n",
       "      <th>Proposed FTE</th>\n",
       "      <th>Present Salary</th>\n",
       "      <th>Proposed Salary</th>\n",
       "      <th>College Code</th>\n",
       "      <th>College Name</th>\n",
       "      <th>Department Code</th>\n",
       "      <th>Department Name</th>\n",
       "      <th>Job Titles</th>\n",
       "      <th>Employee Classes</th>\n",
       "    </tr>\n",
       "  </thead>\n",
       "  <tbody>\n",
       "    <tr>\n",
       "      <th>0</th>\n",
       "      <td>Gerstenecker, David G</td>\n",
       "      <td>DIR OF INFO TECHNOL</td>\n",
       "      <td>NaN</td>\n",
       "      <td>BA</td>\n",
       "      <td>1.0</td>\n",
       "      <td>1.0</td>\n",
       "      <td>106476.00</td>\n",
       "      <td>109670.28</td>\n",
       "      <td>KL</td>\n",
       "      <td>Agr, Consumer &amp; Env Sciences</td>\n",
       "      <td>348</td>\n",
       "      <td>ACES Technology Services</td>\n",
       "      <td>['DIR OF INFO TECHNOL']</td>\n",
       "      <td>['BA']</td>\n",
       "    </tr>\n",
       "    <tr>\n",
       "      <th>1</th>\n",
       "      <td>Henry, Joshua Keith</td>\n",
       "      <td>ASSOC DIR INFO TECHNOL</td>\n",
       "      <td>NaN</td>\n",
       "      <td>BA</td>\n",
       "      <td>1.0</td>\n",
       "      <td>1.0</td>\n",
       "      <td>80871.33</td>\n",
       "      <td>83701.83</td>\n",
       "      <td>KL</td>\n",
       "      <td>Agr, Consumer &amp; Env Sciences</td>\n",
       "      <td>348</td>\n",
       "      <td>ACES Technology Services</td>\n",
       "      <td>['ASSOC DIR INFO TECHNOL']</td>\n",
       "      <td>['BA']</td>\n",
       "    </tr>\n",
       "    <tr>\n",
       "      <th>2</th>\n",
       "      <td>Meyer, Donald L</td>\n",
       "      <td>SR NETWORK ANLYS</td>\n",
       "      <td>NaN</td>\n",
       "      <td>BA</td>\n",
       "      <td>1.0</td>\n",
       "      <td>1.0</td>\n",
       "      <td>89558.22</td>\n",
       "      <td>92692.76</td>\n",
       "      <td>KL</td>\n",
       "      <td>Agr, Consumer &amp; Env Sciences</td>\n",
       "      <td>348</td>\n",
       "      <td>ACES Technology Services</td>\n",
       "      <td>['SR NETWORK ANLYS']</td>\n",
       "      <td>['BA']</td>\n",
       "    </tr>\n",
       "    <tr>\n",
       "      <th>3</th>\n",
       "      <td>Schwartz, Sarah</td>\n",
       "      <td>COMM COORD</td>\n",
       "      <td>NaN</td>\n",
       "      <td>BA</td>\n",
       "      <td>1.0</td>\n",
       "      <td>1.0</td>\n",
       "      <td>50000.00</td>\n",
       "      <td>51750.00</td>\n",
       "      <td>KL</td>\n",
       "      <td>Agr, Consumer &amp; Env Sciences</td>\n",
       "      <td>521</td>\n",
       "      <td>ADM Institute for PHL</td>\n",
       "      <td>['COMM COORD']</td>\n",
       "      <td>['BA']</td>\n",
       "    </tr>\n",
       "    <tr>\n",
       "      <th>4</th>\n",
       "      <td>Winter-Nelson, Alex E</td>\n",
       "      <td>DIR, ADMI</td>\n",
       "      <td>NaN</td>\n",
       "      <td>NaN</td>\n",
       "      <td>1.0</td>\n",
       "      <td>1.0</td>\n",
       "      <td>186666.00</td>\n",
       "      <td>193532.64</td>\n",
       "      <td>KL</td>\n",
       "      <td>Agr, Consumer &amp; Env Sciences</td>\n",
       "      <td>521</td>\n",
       "      <td>ADM Institute for PHL</td>\n",
       "      <td>['DIR, ADMI', 'ASSOC DEAN FOR INATL PRGMS', 'P...</td>\n",
       "      <td>['AA', 'BA']</td>\n",
       "    </tr>\n",
       "    <tr>\n",
       "      <th>...</th>\n",
       "      <td>...</td>\n",
       "      <td>...</td>\n",
       "      <td>...</td>\n",
       "      <td>...</td>\n",
       "      <td>...</td>\n",
       "      <td>...</td>\n",
       "      <td>...</td>\n",
       "      <td>...</td>\n",
       "      <td>...</td>\n",
       "      <td>...</td>\n",
       "      <td>...</td>\n",
       "      <td>...</td>\n",
       "      <td>...</td>\n",
       "      <td>...</td>\n",
       "    </tr>\n",
       "    <tr>\n",
       "      <th>6014</th>\n",
       "      <td>Chambers, Sonya L</td>\n",
       "      <td>EXEC DIR STRATG INITIATIVES</td>\n",
       "      <td>NaN</td>\n",
       "      <td>BA</td>\n",
       "      <td>1.0</td>\n",
       "      <td>1.0</td>\n",
       "      <td>163200.00</td>\n",
       "      <td>169500.00</td>\n",
       "      <td>NV</td>\n",
       "      <td>Vice Chancellor for Diversity</td>\n",
       "      <td>594</td>\n",
       "      <td>Vice Chancellor for Diversity</td>\n",
       "      <td>['EXEC DIR STRATG INITIATIVES']</td>\n",
       "      <td>['BA']</td>\n",
       "    </tr>\n",
       "    <tr>\n",
       "      <th>6015</th>\n",
       "      <td>Garrick, Sean C</td>\n",
       "      <td>VC FOR DVSTY, EQUITY &amp; INCL</td>\n",
       "      <td>NaN</td>\n",
       "      <td>NaN</td>\n",
       "      <td>1.0</td>\n",
       "      <td>1.0</td>\n",
       "      <td>338248.98</td>\n",
       "      <td>351778.94</td>\n",
       "      <td>NV</td>\n",
       "      <td>Vice Chancellor for Diversity</td>\n",
       "      <td>594</td>\n",
       "      <td>Vice Chancellor for Diversity</td>\n",
       "      <td>['VC FOR DVSTY, EQUITY &amp; INCL']</td>\n",
       "      <td>['BA']</td>\n",
       "    </tr>\n",
       "    <tr>\n",
       "      <th>6016</th>\n",
       "      <td>Guerra Perez, Gioconda</td>\n",
       "      <td>EXEC ASSOC VC FOR DVSTY</td>\n",
       "      <td>NaN</td>\n",
       "      <td>BA</td>\n",
       "      <td>1.0</td>\n",
       "      <td>1.0</td>\n",
       "      <td>178500.00</td>\n",
       "      <td>187250.00</td>\n",
       "      <td>NV</td>\n",
       "      <td>Vice Chancellor for Diversity</td>\n",
       "      <td>594</td>\n",
       "      <td>Vice Chancellor for Diversity</td>\n",
       "      <td>['EXEC ASSOC VC FOR DVSTY']</td>\n",
       "      <td>['BA']</td>\n",
       "    </tr>\n",
       "    <tr>\n",
       "      <th>6017</th>\n",
       "      <td>VanDuyne, Adam Jareb</td>\n",
       "      <td>EXEC DIR FIN &amp; ADMN</td>\n",
       "      <td>NaN</td>\n",
       "      <td>BA</td>\n",
       "      <td>1.0</td>\n",
       "      <td>1.0</td>\n",
       "      <td>141000.00</td>\n",
       "      <td>147200.00</td>\n",
       "      <td>NV</td>\n",
       "      <td>Vice Chancellor for Diversity</td>\n",
       "      <td>594</td>\n",
       "      <td>Vice Chancellor for Diversity</td>\n",
       "      <td>['EXEC DIR FIN &amp; ADMN']</td>\n",
       "      <td>['BA']</td>\n",
       "    </tr>\n",
       "    <tr>\n",
       "      <th>6018</th>\n",
       "      <td>Wantland, Ross A</td>\n",
       "      <td>DIR OF CURR DEVL &amp; EDUC</td>\n",
       "      <td>NaN</td>\n",
       "      <td>BA</td>\n",
       "      <td>1.0</td>\n",
       "      <td>1.0</td>\n",
       "      <td>94860.00</td>\n",
       "      <td>98860.00</td>\n",
       "      <td>NV</td>\n",
       "      <td>Vice Chancellor for Diversity</td>\n",
       "      <td>594</td>\n",
       "      <td>Vice Chancellor for Diversity</td>\n",
       "      <td>['DIR OF CURR DEVL &amp; EDUC']</td>\n",
       "      <td>['BA']</td>\n",
       "    </tr>\n",
       "  </tbody>\n",
       "</table>\n",
       "<p>6019 rows × 14 columns</p>\n",
       "</div>"
      ],
      "text/plain": [
       "               Employee Name                    Job Title Tenure Empl Class  \\\n",
       "0      Gerstenecker, David G          DIR OF INFO TECHNOL    NaN         BA   \n",
       "1        Henry, Joshua Keith       ASSOC DIR INFO TECHNOL    NaN         BA   \n",
       "2            Meyer, Donald L             SR NETWORK ANLYS    NaN         BA   \n",
       "3            Schwartz, Sarah                   COMM COORD    NaN         BA   \n",
       "4      Winter-Nelson, Alex E                    DIR, ADMI    NaN        NaN   \n",
       "...                      ...                          ...    ...        ...   \n",
       "6014       Chambers, Sonya L  EXEC DIR STRATG INITIATIVES    NaN         BA   \n",
       "6015         Garrick, Sean C  VC FOR DVSTY, EQUITY & INCL    NaN        NaN   \n",
       "6016  Guerra Perez, Gioconda      EXEC ASSOC VC FOR DVSTY    NaN         BA   \n",
       "6017    VanDuyne, Adam Jareb          EXEC DIR FIN & ADMN    NaN         BA   \n",
       "6018        Wantland, Ross A      DIR OF CURR DEVL & EDUC    NaN         BA   \n",
       "\n",
       "      Present FTE  Proposed FTE  Present Salary  Proposed Salary College Code  \\\n",
       "0             1.0           1.0       106476.00        109670.28           KL   \n",
       "1             1.0           1.0        80871.33         83701.83           KL   \n",
       "2             1.0           1.0        89558.22         92692.76           KL   \n",
       "3             1.0           1.0        50000.00         51750.00           KL   \n",
       "4             1.0           1.0       186666.00        193532.64           KL   \n",
       "...           ...           ...             ...              ...          ...   \n",
       "6014          1.0           1.0       163200.00        169500.00           NV   \n",
       "6015          1.0           1.0       338248.98        351778.94           NV   \n",
       "6016          1.0           1.0       178500.00        187250.00           NV   \n",
       "6017          1.0           1.0       141000.00        147200.00           NV   \n",
       "6018          1.0           1.0        94860.00         98860.00           NV   \n",
       "\n",
       "                       College Name  Department Code  \\\n",
       "0      Agr, Consumer & Env Sciences              348   \n",
       "1      Agr, Consumer & Env Sciences              348   \n",
       "2      Agr, Consumer & Env Sciences              348   \n",
       "3      Agr, Consumer & Env Sciences              521   \n",
       "4      Agr, Consumer & Env Sciences              521   \n",
       "...                             ...              ...   \n",
       "6014  Vice Chancellor for Diversity              594   \n",
       "6015  Vice Chancellor for Diversity              594   \n",
       "6016  Vice Chancellor for Diversity              594   \n",
       "6017  Vice Chancellor for Diversity              594   \n",
       "6018  Vice Chancellor for Diversity              594   \n",
       "\n",
       "                    Department Name  \\\n",
       "0          ACES Technology Services   \n",
       "1          ACES Technology Services   \n",
       "2          ACES Technology Services   \n",
       "3             ADM Institute for PHL   \n",
       "4             ADM Institute for PHL   \n",
       "...                             ...   \n",
       "6014  Vice Chancellor for Diversity   \n",
       "6015  Vice Chancellor for Diversity   \n",
       "6016  Vice Chancellor for Diversity   \n",
       "6017  Vice Chancellor for Diversity   \n",
       "6018  Vice Chancellor for Diversity   \n",
       "\n",
       "                                             Job Titles Employee Classes  \n",
       "0                               ['DIR OF INFO TECHNOL']           ['BA']  \n",
       "1                            ['ASSOC DIR INFO TECHNOL']           ['BA']  \n",
       "2                                  ['SR NETWORK ANLYS']           ['BA']  \n",
       "3                                        ['COMM COORD']           ['BA']  \n",
       "4     ['DIR, ADMI', 'ASSOC DEAN FOR INATL PRGMS', 'P...     ['AA', 'BA']  \n",
       "...                                                 ...              ...  \n",
       "6014                    ['EXEC DIR STRATG INITIATIVES']           ['BA']  \n",
       "6015                    ['VC FOR DVSTY, EQUITY & INCL']           ['BA']  \n",
       "6016                        ['EXEC ASSOC VC FOR DVSTY']           ['BA']  \n",
       "6017                            ['EXEC DIR FIN & ADMN']           ['BA']  \n",
       "6018                        ['DIR OF CURR DEVL & EDUC']           ['BA']  \n",
       "\n",
       "[6019 rows x 14 columns]"
      ]
     },
     "execution_count": 59,
     "metadata": {},
     "output_type": "execute_result"
    }
   ],
   "source": [
    "import pandas as pd\n",
    "df = pd.read_csv(\"https://waf.cs.illinois.edu/discovery/graybook-fa23.csv\")\n",
    "df"
   ]
  },
  {
   "cell_type": "markdown",
   "metadata": {},
   "source": [
    "### 🔬 Test Case Checkpoint 🔬"
   ]
  },
  {
   "cell_type": "code",
   "execution_count": 60,
   "metadata": {},
   "outputs": [
    {
     "name": "stdout",
     "output_type": "stream",
     "text": [
      "🎉 All tests passed! 🎉\n"
     ]
    }
   ],
   "source": [
    "## == TEST CASES for Loading in Graybook ==\n",
    "# - This read-only cell contains test cases for your previous cell.\n",
    "# - If this cell runs with a message (with the emoji showing), you PASSED all test cases!\n",
    "# - If this cell results in any errors, check your previous cell, make changes, and RE-RUN your code and then this cell.\n",
    "assert( 'df' in vars()), \"Load the dataset into the variable named `df`.\"\n",
    "assert ( len(df) == 6019 ), \"This is not the Graybook dataset you're looking for.\"\n",
    "\n",
    "## == SUCCESS MESSAGE ==\n",
    "# You will only see this message (with the emoji showing) if you passed all test cases:\n",
    "tada = \"\\N{PARTY POPPER}\"\n",
    "print(f\"{tada} All tests passed! {tada}\")   "
   ]
  },
  {
   "cell_type": "markdown",
   "metadata": {},
   "source": [
    "<hr style=\"color: #DD3403;\">"
   ]
  },
  {
   "attachments": {},
   "cell_type": "markdown",
   "metadata": {},
   "source": [
    "## Part 1: Exploratory Data Analysis (EDA)\n",
    "\n",
    "As discussed in lecture, the first step of any data analysis is to **get familiar** with your dataset.  Think about what this data can tell you and what variables are included.  Data scientists always start with this step.\n",
    "\n",
    "Let’s do some general **exploratory data analysis** to feel out our dataset.  Before you do any calculations, ponder this question:"
   ]
  },
  {
   "attachments": {},
   "cell_type": "markdown",
   "metadata": {},
   "source": [
    "**Q: What do you estimate the average salary of all UIUC Faculty to be?**"
   ]
  },
  {
   "cell_type": "markdown",
   "metadata": {},
   "source": [
    "*(✏️ Edit this cell to replace this text with your answer. ✏️)*"
   ]
  },
  {
   "attachments": {},
   "cell_type": "markdown",
   "metadata": {},
   "source": [
    "### Puzzle 1.1: Descriptive Statistics\n",
    "\n",
    "Our Graybook Dataset contains both the `Present Salary` and `Proposed Salary` of employees at U of I. For now, we're only interested in the present.\n",
    "\n",
    "Using `df`, find the following information:\n",
    "\n",
    "1. The number of faculty at UIUC, stored in the variable `num_employee` (Hint: each row is an employee!)\n",
    "2. The **mean** present salary, storing in the variable `mean_sal`\n",
    "3. The **median** present salary, storing in the variable `median_sal`\n",
    "4. The **standard deviation** of present salary, storing in the variable `std_sal`\n",
    "\n",
    "Remember, present salary is found in the `\"Present Salary\"` column! "
   ]
  },
  {
   "cell_type": "code",
   "execution_count": 61,
   "metadata": {
    "deletable": false,
    "nbgrader": {
     "cell_type": "code",
     "checksum": "b1bea43f79c33b854e1f15dfe00b180b",
     "grade": false,
     "grade_id": "cell-419796a0b415e588",
     "locked": false,
     "schema_version": 3,
     "solution": true,
     "task": false
    }
   },
   "outputs": [
    {
     "data": {
      "text/plain": [
       "6019"
      ]
     },
     "execution_count": 61,
     "metadata": {},
     "output_type": "execute_result"
    }
   ],
   "source": [
    "num_employee = len(df)\n",
    "num_employee\n"
   ]
  },
  {
   "cell_type": "code",
   "execution_count": 62,
   "metadata": {
    "deletable": false,
    "nbgrader": {
     "cell_type": "code",
     "checksum": "f86aac497feb3ecd4289626231b44964",
     "grade": false,
     "grade_id": "cell-4dbbeef1022a20e4",
     "locked": false,
     "schema_version": 3,
     "solution": true,
     "task": false
    }
   },
   "outputs": [
    {
     "data": {
      "text/plain": [
       "96323.9464379465"
      ]
     },
     "execution_count": 62,
     "metadata": {},
     "output_type": "execute_result"
    }
   ],
   "source": [
    "mean_sal = df[\"Present Salary\"].mean()\n",
    "mean_sal"
   ]
  },
  {
   "cell_type": "code",
   "execution_count": 63,
   "metadata": {
    "deletable": false,
    "nbgrader": {
     "cell_type": "code",
     "checksum": "e8f355f508ffadd1f9b645c9686c73ea",
     "grade": false,
     "grade_id": "cell-727195c3fef2cf78",
     "locked": false,
     "schema_version": 3,
     "solution": true,
     "task": false
    }
   },
   "outputs": [
    {
     "data": {
      "text/plain": [
       "84000.0"
      ]
     },
     "execution_count": 63,
     "metadata": {},
     "output_type": "execute_result"
    }
   ],
   "source": [
    "median_sal = df[\"Present Salary\"].median()\n",
    "median_sal"
   ]
  },
  {
   "cell_type": "code",
   "execution_count": 64,
   "metadata": {
    "deletable": false,
    "nbgrader": {
     "cell_type": "code",
     "checksum": "3da9719c35e35c72a09a1068d100b0f1",
     "grade": false,
     "grade_id": "cell-35e651d14a628e50",
     "locked": false,
     "schema_version": 3,
     "solution": true,
     "task": false
    }
   },
   "outputs": [
    {
     "data": {
      "text/plain": [
       "56930.947221957176"
      ]
     },
     "execution_count": 64,
     "metadata": {},
     "output_type": "execute_result"
    }
   ],
   "source": [
    "std_sal = df[\"Present Salary\"].std()\n",
    "std_sal"
   ]
  },
  {
   "cell_type": "markdown",
   "metadata": {},
   "source": [
    "### 🔬 Test Case Checkpoint 🔬"
   ]
  },
  {
   "cell_type": "code",
   "execution_count": 65,
   "metadata": {
    "deletable": false,
    "editable": false,
    "nbgrader": {
     "cell_type": "code",
     "checksum": "56f09ea04974ac5c89f390a8825daa39",
     "grade": true,
     "grade_id": "cell-04e624817d681f8e",
     "locked": true,
     "points": 1,
     "schema_version": 3,
     "solution": false,
     "task": false
    }
   },
   "outputs": [
    {
     "name": "stdout",
     "output_type": "stream",
     "text": [
      "🎉 All tests passed! 🎉\n"
     ]
    }
   ],
   "source": [
    "## == TEST CASES for Puzzle 1.1 ==\n",
    "# - This read-only cell contains test cases for your previous cell.\n",
    "# - If this cell runs with a message (with the emoji showing), you PASSED all test cases!\n",
    "# - If this cell results in any errors, check your previous cell, make changes, and RE-RUN your code and then this cell.\n",
    "x = mean_sal + median_sal / std_sal\n",
    "assert( num_employee == 6019 ), \"Your calculations of the number of employees is incorrect.\"\n",
    "assert ( (x - 98845.5370493489) <= 0.01), \"Double check your calculations for mean_sal, median_sal, and std_sal\"\n",
    "\n",
    "## == SUCCESS MESSAGE ==\n",
    "# You will only see this message (with the emoji showing) if you passed all test cases:\n",
    "tada = \"\\N{PARTY POPPER}\"\n",
    "print(f\"{tada} All tests passed! {tada}\")"
   ]
  },
  {
   "attachments": {},
   "cell_type": "markdown",
   "metadata": {},
   "source": [
    "### Visual Displays of Data: A Key Part of EDA!\n",
    "\n",
    "Now, we are a bit more familiar with the dataset through summary statistics. Looking at overall descriptive statistics helps us summarize all of the observations in a column, rather than having to scroll through all of the observations!  However, descriptive statistics alone often don’t tell the whole story. This is where having tools for **visualizing statistics** comes in handy.\n",
    "\n",
    "###  Puzzle 1.2: Histograms\n",
    "\n",
    "Let’s start by looking at one of the most simple, yet powerful visual displays of data: a **histogram**.  Histograms are used to show the **overall shape** of the data and they allow us to see frequencies or densities.  \n",
    "\n",
    "Generate a **frequency histogram** of the `Present Salary` column. \n"
   ]
  },
  {
   "cell_type": "code",
   "execution_count": 66,
   "metadata": {},
   "outputs": [
    {
     "data": {
      "text/plain": [
       "<Axes: >"
      ]
     },
     "execution_count": 66,
     "metadata": {},
     "output_type": "execute_result"
    },
    {
     "data": {
      "image/png": "[encoded data removed]",
      "text/plain": [
       "<Figure size 640x480 with 1 Axes>"
      ]
     },
     "metadata": {},
     "output_type": "display_data"
    }
   ],
   "source": [
    "df[\"Present Salary\"].hist()"
   ]
  },
  {
   "attachments": {},
   "cell_type": "markdown",
   "metadata": {},
   "source": [
    "### Puzzle 1.3: Boxplots\n",
    "\n",
    "Next, let’s look at another simple, yet powerful visualization: the **boxplot**! \n",
    "\n",
    "Generate a **boxplot** of the `Present Salary` column."
   ]
  },
  {
   "cell_type": "code",
   "execution_count": 67,
   "metadata": {},
   "outputs": [
    {
     "data": {
      "text/plain": [
       "<Axes: >"
      ]
     },
     "execution_count": 67,
     "metadata": {},
     "output_type": "execute_result"
    },
    {
     "data": {
      "image/png": "[encoded data removed]",
      "text/plain": [
       "<Figure size 640x480 with 1 Axes>"
      ]
     },
     "metadata": {},
     "output_type": "display_data"
    }
   ],
   "source": [
    "df[\"Present Salary\"].plot.box(vert = False)"
   ]
  },
  {
   "attachments": {},
   "cell_type": "markdown",
   "metadata": {},
   "source": [
    "### Analysis: Reflecting on Visualization"
   ]
  },
  {
   "attachments": {},
   "cell_type": "markdown",
   "metadata": {},
   "source": [
    "**Group Q: Do you think a histogram or boxplot best visualizes the salary data? What are the advantages (or disadvantages) of either visualization? Discuss this with your group.**"
   ]
  },
  {
   "attachments": {},
   "cell_type": "markdown",
   "metadata": {},
   "source": [
    "I think that the boxplot is the best representation. It's easier to see the full range of the salaries as opposed to the historgram where you can barely see the plot of the singular person making over 800k, as well as being able to see all the outliers. "
   ]
  },
  {
   "attachments": {},
   "cell_type": "markdown",
   "metadata": {},
   "source": [
    "**Individual Q: Why is it valuable to look at visual displays of salary data in general (as opposed to just looking at descriptive statistics like the mean and standard deviation)?**"
   ]
  },
  {
   "cell_type": "markdown",
   "metadata": {},
   "source": [
    "The visual displays are able to show everything in a full picture, whereas descriptive statistics may not have all the context behind the number (like say you have a mean, you might not be able to see the outliers that skew this number)."
   ]
  },
  {
   "cell_type": "markdown",
   "metadata": {},
   "source": [
    "<hr style=\"color: #DD3403;\">"
   ]
  },
  {
   "attachments": {},
   "cell_type": "markdown",
   "metadata": {},
   "source": [
    "## Part 2: Department-Level Data\n",
    "\n",
    "Our Graybook dataset also includes the `Department Name` of each employee. This means you can see what department each professor is from and look at other employees in the same department.  \n",
    "\n",
    "We can calculate **descriptive statistics** and look at visual displays of data on a **department level**!  Let’s explore whether or not there are salary **discrepancies** among departments.\n",
    "\n",
    "### Puzzle 2.1: Grouping the Data\n",
    "\n",
    "In lecture, you learned syntax that will help you **group** all of the people in each department so you can find departmental aggregates.  In other words, we want to group by `'Department Name'`.\n",
    "\n",
    "To make things easier to read, we will first modify your DataFrame to include only the `Department Name` and `Present Salary` fields before you `groupby`.\n",
    "\n",
    "First, using the cell below, create a second DataFrame named `df2` **containing only** the `Department Name` and `Present Salary` columns. Remember to use **double square-brackets** to specify these columns. Here's an example of the syntax: `df[['col1', 'col2']]`"
   ]
  },
  {
   "cell_type": "code",
   "execution_count": 68,
   "metadata": {},
   "outputs": [
    {
     "data": {
      "text/html": [
       "<div>\n",
       "<style scoped>\n",
       "    .dataframe tbody tr th:only-of-type {\n",
       "        vertical-align: middle;\n",
       "    }\n",
       "\n",
       "    .dataframe tbody tr th {\n",
       "        vertical-align: top;\n",
       "    }\n",
       "\n",
       "    .dataframe thead th {\n",
       "        text-align: right;\n",
       "    }\n",
       "</style>\n",
       "<table border=\"1\" class=\"dataframe\">\n",
       "  <thead>\n",
       "    <tr style=\"text-align: right;\">\n",
       "      <th></th>\n",
       "      <th>Department Name</th>\n",
       "      <th>Present Salary</th>\n",
       "    </tr>\n",
       "  </thead>\n",
       "  <tbody>\n",
       "    <tr>\n",
       "      <th>0</th>\n",
       "      <td>ACES Technology Services</td>\n",
       "      <td>106476.00</td>\n",
       "    </tr>\n",
       "    <tr>\n",
       "      <th>1</th>\n",
       "      <td>ACES Technology Services</td>\n",
       "      <td>80871.33</td>\n",
       "    </tr>\n",
       "    <tr>\n",
       "      <th>2</th>\n",
       "      <td>ACES Technology Services</td>\n",
       "      <td>89558.22</td>\n",
       "    </tr>\n",
       "    <tr>\n",
       "      <th>3</th>\n",
       "      <td>ADM Institute for PHL</td>\n",
       "      <td>50000.00</td>\n",
       "    </tr>\n",
       "    <tr>\n",
       "      <th>4</th>\n",
       "      <td>ADM Institute for PHL</td>\n",
       "      <td>186666.00</td>\n",
       "    </tr>\n",
       "    <tr>\n",
       "      <th>...</th>\n",
       "      <td>...</td>\n",
       "      <td>...</td>\n",
       "    </tr>\n",
       "    <tr>\n",
       "      <th>6014</th>\n",
       "      <td>Vice Chancellor for Diversity</td>\n",
       "      <td>163200.00</td>\n",
       "    </tr>\n",
       "    <tr>\n",
       "      <th>6015</th>\n",
       "      <td>Vice Chancellor for Diversity</td>\n",
       "      <td>338248.98</td>\n",
       "    </tr>\n",
       "    <tr>\n",
       "      <th>6016</th>\n",
       "      <td>Vice Chancellor for Diversity</td>\n",
       "      <td>178500.00</td>\n",
       "    </tr>\n",
       "    <tr>\n",
       "      <th>6017</th>\n",
       "      <td>Vice Chancellor for Diversity</td>\n",
       "      <td>141000.00</td>\n",
       "    </tr>\n",
       "    <tr>\n",
       "      <th>6018</th>\n",
       "      <td>Vice Chancellor for Diversity</td>\n",
       "      <td>94860.00</td>\n",
       "    </tr>\n",
       "  </tbody>\n",
       "</table>\n",
       "<p>6019 rows × 2 columns</p>\n",
       "</div>"
      ],
      "text/plain": [
       "                    Department Name  Present Salary\n",
       "0          ACES Technology Services       106476.00\n",
       "1          ACES Technology Services        80871.33\n",
       "2          ACES Technology Services        89558.22\n",
       "3             ADM Institute for PHL        50000.00\n",
       "4             ADM Institute for PHL       186666.00\n",
       "...                             ...             ...\n",
       "6014  Vice Chancellor for Diversity       163200.00\n",
       "6015  Vice Chancellor for Diversity       338248.98\n",
       "6016  Vice Chancellor for Diversity       178500.00\n",
       "6017  Vice Chancellor for Diversity       141000.00\n",
       "6018  Vice Chancellor for Diversity        94860.00\n",
       "\n",
       "[6019 rows x 2 columns]"
      ]
     },
     "execution_count": 68,
     "metadata": {},
     "output_type": "execute_result"
    }
   ],
   "source": [
    "df2 = df[['Department Name' , 'Present Salary']]\n",
    "df2"
   ]
  },
  {
   "attachments": {},
   "cell_type": "markdown",
   "metadata": {},
   "source": [
    "Now, `groupby` Department Name and find the mean Present Salary for each department to create `agg_mean_df`:"
   ]
  },
  {
   "cell_type": "code",
   "execution_count": 69,
   "metadata": {
    "deletable": false,
    "nbgrader": {
     "cell_type": "code",
     "checksum": "912abaecdf749394d0921e160cd15746",
     "grade": false,
     "grade_id": "cell-72189b308296916b",
     "locked": false,
     "schema_version": 3,
     "solution": true,
     "task": false
    }
   },
   "outputs": [
    {
     "data": {
      "text/html": [
       "<div>\n",
       "<style scoped>\n",
       "    .dataframe tbody tr th:only-of-type {\n",
       "        vertical-align: middle;\n",
       "    }\n",
       "\n",
       "    .dataframe tbody tr th {\n",
       "        vertical-align: top;\n",
       "    }\n",
       "\n",
       "    .dataframe thead th {\n",
       "        text-align: right;\n",
       "    }\n",
       "</style>\n",
       "<table border=\"1\" class=\"dataframe\">\n",
       "  <thead>\n",
       "    <tr style=\"text-align: right;\">\n",
       "      <th></th>\n",
       "      <th>Department Name</th>\n",
       "      <th>Present Salary</th>\n",
       "    </tr>\n",
       "  </thead>\n",
       "  <tbody>\n",
       "    <tr>\n",
       "      <th>0</th>\n",
       "      <td>ACES Technology Services</td>\n",
       "      <td>92301.850000</td>\n",
       "    </tr>\n",
       "    <tr>\n",
       "      <th>1</th>\n",
       "      <td>ADM Institute for PHL</td>\n",
       "      <td>118333.000000</td>\n",
       "    </tr>\n",
       "    <tr>\n",
       "      <th>2</th>\n",
       "      <td>Academy Entrepreneurial Ldrshp</td>\n",
       "      <td>75894.000000</td>\n",
       "    </tr>\n",
       "    <tr>\n",
       "      <th>3</th>\n",
       "      <td>Accountancy</td>\n",
       "      <td>201469.968971</td>\n",
       "    </tr>\n",
       "    <tr>\n",
       "      <th>4</th>\n",
       "      <td>Action Learning</td>\n",
       "      <td>106029.166667</td>\n",
       "    </tr>\n",
       "    <tr>\n",
       "      <th>...</th>\n",
       "      <td>...</td>\n",
       "      <td>...</td>\n",
       "    </tr>\n",
       "    <tr>\n",
       "      <th>259</th>\n",
       "      <td>Veterinary Teaching Hospital</td>\n",
       "      <td>85530.463333</td>\n",
       "    </tr>\n",
       "    <tr>\n",
       "      <th>260</th>\n",
       "      <td>Vice Chancellor for Diversity</td>\n",
       "      <td>168745.246667</td>\n",
       "    </tr>\n",
       "    <tr>\n",
       "      <th>261</th>\n",
       "      <td>Web Services</td>\n",
       "      <td>133686.405000</td>\n",
       "    </tr>\n",
       "    <tr>\n",
       "      <th>262</th>\n",
       "      <td>Willard Airport Commercial Op</td>\n",
       "      <td>147900.000000</td>\n",
       "    </tr>\n",
       "    <tr>\n",
       "      <th>263</th>\n",
       "      <td>eLearning</td>\n",
       "      <td>65313.740000</td>\n",
       "    </tr>\n",
       "  </tbody>\n",
       "</table>\n",
       "<p>264 rows × 2 columns</p>\n",
       "</div>"
      ],
      "text/plain": [
       "                    Department Name  Present Salary\n",
       "0          ACES Technology Services    92301.850000\n",
       "1             ADM Institute for PHL   118333.000000\n",
       "2    Academy Entrepreneurial Ldrshp    75894.000000\n",
       "3                       Accountancy   201469.968971\n",
       "4                   Action Learning   106029.166667\n",
       "..                              ...             ...\n",
       "259    Veterinary Teaching Hospital    85530.463333\n",
       "260   Vice Chancellor for Diversity   168745.246667\n",
       "261                    Web Services   133686.405000\n",
       "262   Willard Airport Commercial Op   147900.000000\n",
       "263                       eLearning    65313.740000\n",
       "\n",
       "[264 rows x 2 columns]"
      ]
     },
     "execution_count": 69,
     "metadata": {},
     "output_type": "execute_result"
    }
   ],
   "source": [
    "agg_mean_df = df2.groupby(\"Department Name\").agg(\"mean\").reset_index()\n",
    "agg_mean_df"
   ]
  },
  {
   "cell_type": "markdown",
   "metadata": {},
   "source": [
    "### 🔬 Test Case Checkpoint 🔬"
   ]
  },
  {
   "cell_type": "code",
   "execution_count": 70,
   "metadata": {
    "deletable": false,
    "editable": false,
    "nbgrader": {
     "cell_type": "code",
     "checksum": "0bbf4ebd7bc25281632fc296ffd2b063",
     "grade": true,
     "grade_id": "cell-d4a69c902629304a",
     "locked": true,
     "points": 1,
     "schema_version": 3,
     "solution": false,
     "task": false
    }
   },
   "outputs": [
    {
     "name": "stdout",
     "output_type": "stream",
     "text": [
      "🎉 All tests passed! 🎉\n"
     ]
    }
   ],
   "source": [
    "## == TEST CASES for Puzzle 2.1 ==\n",
    "# - This read-only cell contains test cases for your previous cell.\n",
    "# - If this cell runs with a message (with the emoji showing), you PASSED all test cases!\n",
    "# - If this cell results in any errors, check your previous cell, make changes, and RE-RUN your code and then this cell.\n",
    "assert ( len(df2.columns) == 2 ), \"Make sure your df2 contains only the Department Name and Present Salary columns.\"\n",
    "assert (\"agg_mean_df\" in vars()), \"Make sure your aggregated DataFrame of means is named 'agg_mean_df'.\"\n",
    "assert( len(agg_mean_df) == 264 ), \"You should have 264 different departments.  Check to make sure you've grouped the data correctly.\"\n",
    "assert( \"Present Salary\" in agg_mean_df ), \"Your agg_mean_df is missing the Salary column.\"\n",
    "assert( agg_mean_df['Present Salary'].mean() - 97559.28241196758 <= 0.01 ), \"Your salary values are incorrect. Double-check that you are aggregating by `mean`.\"\n",
    "\n",
    "## == SUCCESS MESSAGE ==\n",
    "# You will only see this message (with the emoji showing) if you passed all test cases:\n",
    "tada = \"\\N{PARTY POPPER}\"\n",
    "print(f\"{tada} All tests passed! {tada}\")"
   ]
  },
  {
   "attachments": {},
   "cell_type": "markdown",
   "metadata": {},
   "source": [
    "### Puzzle 2.2: Department Comparisons\n",
    "\n",
    "Let’s look at how the **mean salaries** differ across departments.\n",
    "\n",
    "Using your `agg_mean_df`, in the following three cells, find the **mean** present salary for each of these departments:\n",
    "- The department of `English`, stored in the variable `mean_eng`\n",
    "- The department of `Psychology`, stored in the variable `mean_psych`\n",
    "- The department of `Electrical & Computer Eng`, stored in the variable `mean_ece`\n",
    "\n",
    "Remember, you can filter your `agg_mean_df` to these **departments** by using the `names` provided above (**\"English\"**, **\"Psychology\"**, and **\"Electrical & Computer Eng\"**). Then, just find the mean `Present Salary` for each of these departments. Make sure that your output returns the mean `Present Salary` as a number, not just a DataFrame with the mean in one of the rows.\n"
   ]
  },
  {
   "cell_type": "code",
   "execution_count": 71,
   "metadata": {},
   "outputs": [
    {
     "data": {
      "text/plain": [
       "74962.802125"
      ]
     },
     "execution_count": 71,
     "metadata": {},
     "output_type": "execute_result"
    }
   ],
   "source": [
    "dfE = df2[df2[\"Department Name\"] == \"English\"]\n",
    "mean_eng = dfE['Present Salary'].mean()\n",
    "mean_eng"
   ]
  },
  {
   "cell_type": "code",
   "execution_count": 72,
   "metadata": {},
   "outputs": [
    {
     "data": {
      "text/plain": [
       "98798.36183333333"
      ]
     },
     "execution_count": 72,
     "metadata": {},
     "output_type": "execute_result"
    }
   ],
   "source": [
    "dfP = df2[df2[\"Department Name\"] == \"Psychology\"]\n",
    "mean_psych = dfP['Present Salary'].mean()\n",
    "mean_psych"
   ]
  },
  {
   "cell_type": "code",
   "execution_count": 73,
   "metadata": {},
   "outputs": [
    {
     "data": {
      "text/plain": [
       "124733.49410714286"
      ]
     },
     "execution_count": 73,
     "metadata": {},
     "output_type": "execute_result"
    }
   ],
   "source": [
    "dfeC = df2[df2[\"Department Name\"] == \"Electrical & Computer Eng\"]\n",
    "\n",
    "mean_ece = dfeC['Present Salary'].mean()\n",
    "mean_ece"
   ]
  },
  {
   "cell_type": "markdown",
   "metadata": {},
   "source": [
    "### 🔬 Test Case Checkpoint 🔬"
   ]
  },
  {
   "cell_type": "code",
   "execution_count": 74,
   "metadata": {},
   "outputs": [
    {
     "name": "stdout",
     "output_type": "stream",
     "text": [
      "🎉 All tests passed! 🎉\n"
     ]
    }
   ],
   "source": [
    "## == TEST CASES for Puzzle 2.2 ==\n",
    "# - This read-only cell contains test cases for your previous cell.\n",
    "# - If this cell runs with a message (with the emoji showing), you PASSED all test cases!\n",
    "# - If this cell results in any errors, check your previous cell, make changes, and RE-RUN your code and then this cell.\n",
    "assert( float(mean_eng) - 74962.802125 <= 0.01 ), \"The mean salary you calculated of the English department is incorrect\"\n",
    "assert( float(mean_psych) - 98798.36183333333 <= 0.01 ), \"The mean salary you calculated of the Psychology department is incorrect\"\n",
    "assert( float(mean_ece) - 124733.49410714286 <= 0.01 ), \"The mean salary you calculated of the ECE department is incorrect\"\n",
    "\n",
    "## == SUCCESS MESSAGE ==\n",
    "# You will only see this message (with the emoji showing) if you passed all test cases:\n",
    "tada = \"\\N{PARTY POPPER}\"\n",
    "print(f\"{tada} All tests passed! {tada}\")"
   ]
  },
  {
   "attachments": {},
   "cell_type": "markdown",
   "metadata": {},
   "source": [
    "### Analysis: Department Differences"
   ]
  },
  {
   "attachments": {},
   "cell_type": "markdown",
   "metadata": {},
   "source": [
    "**Group Q: Discuss this with your group. Why do you think certain departments have higher mean salaries than others? Are there potential confounding factors or explanations for the differences?**"
   ]
  },
  {
   "attachments": {},
   "cell_type": "markdown",
   "metadata": {},
   "source": [
    "Some departments may just pay more to the people employed, or because Electrical & Computer Eng. may be a more technical role, which may demand a higher compensation. I think a possible confounding factor would be the number of people in each department as maybe there might not be a lot of people in E & C eng department so those that get payed more might skew the mean. "
   ]
  },
  {
   "attachments": {},
   "cell_type": "markdown",
   "metadata": {},
   "source": [
    "### Puzzle 2.3: Grouping the Data, Again\n",
    "\n",
    "We have an aggregated DataFrame of the salaries by department, but what if we want to find the number of employees in each department? \n",
    "\n",
    "Luckily, `pandas` lets us `groupby` and count the **number of rows** in each group. This is known as grouping by `count`. Because each row represents a single employee, we can use this to find the number of employees per department. \n",
    "\n",
    "In the cell below, using your `df2` from earlier, create `agg_count_df` which finds the number of employees in each department:"
   ]
  },
  {
   "cell_type": "code",
   "execution_count": 81,
   "metadata": {},
   "outputs": [
    {
     "data": {
      "text/html": [
       "<div>\n",
       "<style scoped>\n",
       "    .dataframe tbody tr th:only-of-type {\n",
       "        vertical-align: middle;\n",
       "    }\n",
       "\n",
       "    .dataframe tbody tr th {\n",
       "        vertical-align: top;\n",
       "    }\n",
       "\n",
       "    .dataframe thead th {\n",
       "        text-align: right;\n",
       "    }\n",
       "</style>\n",
       "<table border=\"1\" class=\"dataframe\">\n",
       "  <thead>\n",
       "    <tr style=\"text-align: right;\">\n",
       "      <th></th>\n",
       "      <th>Present Salary</th>\n",
       "    </tr>\n",
       "    <tr>\n",
       "      <th>Department Name</th>\n",
       "      <th></th>\n",
       "    </tr>\n",
       "  </thead>\n",
       "  <tbody>\n",
       "    <tr>\n",
       "      <th>ACES Technology Services</th>\n",
       "      <td>3</td>\n",
       "    </tr>\n",
       "    <tr>\n",
       "      <th>ADM Institute for PHL</th>\n",
       "      <td>2</td>\n",
       "    </tr>\n",
       "    <tr>\n",
       "      <th>Academy Entrepreneurial Ldrshp</th>\n",
       "      <td>2</td>\n",
       "    </tr>\n",
       "    <tr>\n",
       "      <th>Accountancy</th>\n",
       "      <td>68</td>\n",
       "    </tr>\n",
       "    <tr>\n",
       "      <th>Action Learning</th>\n",
       "      <td>3</td>\n",
       "    </tr>\n",
       "    <tr>\n",
       "      <th>...</th>\n",
       "      <td>...</td>\n",
       "    </tr>\n",
       "    <tr>\n",
       "      <th>Veterinary Teaching Hospital</th>\n",
       "      <td>3</td>\n",
       "    </tr>\n",
       "    <tr>\n",
       "      <th>Vice Chancellor for Diversity</th>\n",
       "      <td>6</td>\n",
       "    </tr>\n",
       "    <tr>\n",
       "      <th>Web Services</th>\n",
       "      <td>2</td>\n",
       "    </tr>\n",
       "    <tr>\n",
       "      <th>Willard Airport Commercial Op</th>\n",
       "      <td>1</td>\n",
       "    </tr>\n",
       "    <tr>\n",
       "      <th>eLearning</th>\n",
       "      <td>24</td>\n",
       "    </tr>\n",
       "  </tbody>\n",
       "</table>\n",
       "<p>264 rows × 1 columns</p>\n",
       "</div>"
      ],
      "text/plain": [
       "                                Present Salary\n",
       "Department Name                               \n",
       "ACES Technology Services                     3\n",
       "ADM Institute for PHL                        2\n",
       "Academy Entrepreneurial Ldrshp               2\n",
       "Accountancy                                 68\n",
       "Action Learning                              3\n",
       "...                                        ...\n",
       "Veterinary Teaching Hospital                 3\n",
       "Vice Chancellor for Diversity                6\n",
       "Web Services                                 2\n",
       "Willard Airport Commercial Op                1\n",
       "eLearning                                   24\n",
       "\n",
       "[264 rows x 1 columns]"
      ]
     },
     "execution_count": 81,
     "metadata": {},
     "output_type": "execute_result"
    }
   ],
   "source": [
    "agg_count_df = df2.groupby(\"Department Name\").count()\n",
    "agg_count_df"
   ]
  },
  {
   "attachments": {},
   "cell_type": "markdown",
   "metadata": {},
   "source": [
    "If done correctly, your `agg_count_df` should now contain the number of employees in each department under the `Present Salary` column because grouping by `count` **counts the rows in each department**. But this column name is **misleading**. \n",
    "\n",
    "**Run the provided cell below** to rename the `Present Salary` column to `Num Employees`:"
   ]
  },
  {
   "cell_type": "code",
   "execution_count": 82,
   "metadata": {},
   "outputs": [
    {
     "data": {
      "text/html": [
       "<div>\n",
       "<style scoped>\n",
       "    .dataframe tbody tr th:only-of-type {\n",
       "        vertical-align: middle;\n",
       "    }\n",
       "\n",
       "    .dataframe tbody tr th {\n",
       "        vertical-align: top;\n",
       "    }\n",
       "\n",
       "    .dataframe thead th {\n",
       "        text-align: right;\n",
       "    }\n",
       "</style>\n",
       "<table border=\"1\" class=\"dataframe\">\n",
       "  <thead>\n",
       "    <tr style=\"text-align: right;\">\n",
       "      <th></th>\n",
       "      <th>Num Employees</th>\n",
       "    </tr>\n",
       "    <tr>\n",
       "      <th>Department Name</th>\n",
       "      <th></th>\n",
       "    </tr>\n",
       "  </thead>\n",
       "  <tbody>\n",
       "    <tr>\n",
       "      <th>ACES Technology Services</th>\n",
       "      <td>3</td>\n",
       "    </tr>\n",
       "    <tr>\n",
       "      <th>ADM Institute for PHL</th>\n",
       "      <td>2</td>\n",
       "    </tr>\n",
       "    <tr>\n",
       "      <th>Academy Entrepreneurial Ldrshp</th>\n",
       "      <td>2</td>\n",
       "    </tr>\n",
       "    <tr>\n",
       "      <th>Accountancy</th>\n",
       "      <td>68</td>\n",
       "    </tr>\n",
       "    <tr>\n",
       "      <th>Action Learning</th>\n",
       "      <td>3</td>\n",
       "    </tr>\n",
       "    <tr>\n",
       "      <th>...</th>\n",
       "      <td>...</td>\n",
       "    </tr>\n",
       "    <tr>\n",
       "      <th>Veterinary Teaching Hospital</th>\n",
       "      <td>3</td>\n",
       "    </tr>\n",
       "    <tr>\n",
       "      <th>Vice Chancellor for Diversity</th>\n",
       "      <td>6</td>\n",
       "    </tr>\n",
       "    <tr>\n",
       "      <th>Web Services</th>\n",
       "      <td>2</td>\n",
       "    </tr>\n",
       "    <tr>\n",
       "      <th>Willard Airport Commercial Op</th>\n",
       "      <td>1</td>\n",
       "    </tr>\n",
       "    <tr>\n",
       "      <th>eLearning</th>\n",
       "      <td>24</td>\n",
       "    </tr>\n",
       "  </tbody>\n",
       "</table>\n",
       "<p>264 rows × 1 columns</p>\n",
       "</div>"
      ],
      "text/plain": [
       "                                Num Employees\n",
       "Department Name                              \n",
       "ACES Technology Services                    3\n",
       "ADM Institute for PHL                       2\n",
       "Academy Entrepreneurial Ldrshp              2\n",
       "Accountancy                                68\n",
       "Action Learning                             3\n",
       "...                                       ...\n",
       "Veterinary Teaching Hospital                3\n",
       "Vice Chancellor for Diversity               6\n",
       "Web Services                                2\n",
       "Willard Airport Commercial Op               1\n",
       "eLearning                                  24\n",
       "\n",
       "[264 rows x 1 columns]"
      ]
     },
     "execution_count": 82,
     "metadata": {},
     "output_type": "execute_result"
    }
   ],
   "source": [
    "agg_count_df.rename(columns={\"Present Salary\": \"Num Employees\"}, inplace=True)\n",
    "agg_count_df"
   ]
  },
  {
   "cell_type": "markdown",
   "metadata": {},
   "source": [
    "### 🔬 Test Case Checkpoint 🔬"
   ]
  },
  {
   "cell_type": "code",
   "execution_count": 83,
   "metadata": {},
   "outputs": [
    {
     "name": "stdout",
     "output_type": "stream",
     "text": [
      "🎉 All tests passed! 🎉\n"
     ]
    }
   ],
   "source": [
    "## == TEST CASES for Puzzle 2.3 ==\n",
    "# - This read-only cell contains test cases for your previous cell.\n",
    "# - If this cell runs with a message (with the emoji showing), you PASSED all test cases!\n",
    "# - If this cell results in any errors, check your previous cell, make changes, and RE-RUN your code and then this cell.\n",
    "assert (\"agg_count_df\" in vars()), \"Make sure your aggregated DataFrame of employee counts is named 'agg_count_df'.\"\n",
    "assert( len(agg_count_df) == 264 ), \"You should have 264 different departments.  Check to make sure you've grouped the data correctly.\"\n",
    "assert( \"Num Employees\" in agg_count_df ), \"Your agg_count_df is missing the Num Employees column. Make sure you ran the provided cell to rename the column.\"\n",
    "assert( agg_count_df['Num Employees'].mean() - 22.799242424242426 <= 0.01 ), \"Your employee counts are incorrect. Double-check that you are aggregating by `count`.\"\n",
    "\n",
    "## == SUCCESS MESSAGE ==\n",
    "# You will only see this message (with the emoji showing) if you passed all test cases:\n",
    "tada = \"\\N{PARTY POPPER}\"\n",
    "print(f\"{tada} All tests passed! {tada}\")"
   ]
  },
  {
   "attachments": {},
   "cell_type": "markdown",
   "metadata": {},
   "source": [
    "### Puzzle 2.4: Employee Counts\n",
    "\n",
    "Now, using your `agg_count_df`, in the following three cells, find the **number of employees** for each of these departments:\n",
    "- The department of `English`, stored in the variable `eng_employees`\n",
    "- The department of `Psychology`, stored in the variable `psych_employees`\n",
    "- The department of `Electrical & Computer Eng`, stored in the variable `ece_employees`\n",
    "\n",
    "This should be quite similar to your solutions to Puzzle 2.2 above, but now we need to use the **\"Num Employees\"** column."
   ]
  },
  {
   "cell_type": "code",
   "execution_count": 84,
   "metadata": {},
   "outputs": [
    {
     "data": {
      "text/plain": [
       "80"
      ]
     },
     "execution_count": 84,
     "metadata": {},
     "output_type": "execute_result"
    }
   ],
   "source": [
    "eng_employees = agg_count_df.loc['English', 'Num Employees']\n",
    "eng_employees"
   ]
  },
  {
   "cell_type": "code",
   "execution_count": 85,
   "metadata": {},
   "outputs": [
    {
     "data": {
      "text/plain": [
       "60"
      ]
     },
     "execution_count": 85,
     "metadata": {},
     "output_type": "execute_result"
    }
   ],
   "source": [
    "psych_employees = agg_count_df.loc['Psychology', 'Num Employees']\n",
    "psych_employees "
   ]
  },
  {
   "cell_type": "code",
   "execution_count": 86,
   "metadata": {},
   "outputs": [
    {
     "data": {
      "text/plain": [
       "56"
      ]
     },
     "execution_count": 86,
     "metadata": {},
     "output_type": "execute_result"
    }
   ],
   "source": [
    "ece_employees = agg_count_df.loc['Electrical & Computer Eng', 'Num Employees']\n",
    "ece_employees"
   ]
  },
  {
   "cell_type": "markdown",
   "metadata": {},
   "source": [
    "### 🔬 Test Case Checkpoint 🔬"
   ]
  },
  {
   "cell_type": "code",
   "execution_count": 87,
   "metadata": {},
   "outputs": [
    {
     "name": "stdout",
     "output_type": "stream",
     "text": [
      "🎉 All tests passed! 🎉\n"
     ]
    }
   ],
   "source": [
    "## == TEST CASES for Puzzle 2.4 ==\n",
    "# - This read-only cell contains test cases for your previous cell.\n",
    "# - If this cell runs with a message (with the emoji showing), you PASSED all test cases!\n",
    "# - If this cell results in any errors, check your previous cell, make changes, and RE-RUN your code and then this cell.\n",
    "assert( float(eng_employees) == 80), \"The number of employees calculated of the English department is incorrect\"\n",
    "assert( float(psych_employees) == 60), \"The number of employees you calculated of the Psychology department is incorrect\"\n",
    "assert( float(ece_employees) == 56), \"The number of employees you calculated of the ECE department is incorrect\"\n",
    "\n",
    "## == SUCCESS MESSAGE ==\n",
    "# You will only see this message (with the emoji showing) if you passed all test cases:\n",
    "tada = \"\\N{PARTY POPPER}\"\n",
    "print(f\"{tada} All tests passed! {tada}\")"
   ]
  },
  {
   "attachments": {},
   "cell_type": "markdown",
   "metadata": {},
   "source": [
    "### Analysis: Employees and Salaries"
   ]
  },
  {
   "attachments": {},
   "cell_type": "markdown",
   "metadata": {},
   "source": [
    "**Group Q: Do you think department employee counts have any influence on the average salaries you observed earlier? Why or why not?**"
   ]
  },
  {
   "attachments": {},
   "cell_type": "markdown",
   "metadata": {},
   "source": [
    "The lower the count of employees, the larger the average salaries grew. Therefore, we think it did have an influence to an extent."
   ]
  },
  {
   "attachments": {},
   "cell_type": "markdown",
   "metadata": {},
   "source": [
    "### Puzzle 2.5: Revisiting Visualization\n",
    "\n",
    "Earlier, we observed the importance of data visualization with histograms and boxplots. Let's apply these plotting techniques to the aggregated DataFrames you've recently created! \n",
    "\n",
    "First, using your DataFrame `agg_mean_df`, generate a histogram displaying the distribution of department `Present Salary` means across UIUC:"
   ]
  },
  {
   "cell_type": "code",
   "execution_count": 88,
   "metadata": {},
   "outputs": [
    {
     "data": {
      "text/plain": [
       "<Axes: >"
      ]
     },
     "execution_count": 88,
     "metadata": {},
     "output_type": "execute_result"
    },
    {
     "data": {
      "image/png": "[encoded data removed]",
      "text/plain": [
       "<Figure size 640x480 with 1 Axes>"
      ]
     },
     "metadata": {},
     "output_type": "display_data"
    }
   ],
   "source": [
    "agg_mean_df['Present Salary'].hist()"
   ]
  },
  {
   "attachments": {},
   "cell_type": "markdown",
   "metadata": {},
   "source": [
    "Now, using your DataFrame `agg_count_df`, generate a histogram displaying the distribution of `Num Employees` in departments across UIUC:"
   ]
  },
  {
   "cell_type": "code",
   "execution_count": 89,
   "metadata": {},
   "outputs": [
    {
     "data": {
      "text/plain": [
       "<Axes: >"
      ]
     },
     "execution_count": 89,
     "metadata": {},
     "output_type": "execute_result"
    },
    {
     "data": {
      "image/png": "[encoded data removed]",
      "text/plain": [
       "<Figure size 640x480 with 1 Axes>"
      ]
     },
     "metadata": {},
     "output_type": "display_data"
    }
   ],
   "source": [
    "agg_count_df['Num Employees'].hist()"
   ]
  },
  {
   "attachments": {},
   "cell_type": "markdown",
   "metadata": {},
   "source": [
    "### Analysis: Histogram Takeaways"
   ]
  },
  {
   "attachments": {},
   "cell_type": "markdown",
   "metadata": {},
   "source": [
    "**Individual Q: Write down at least three observations you can make from the histograms generated above. Make sure each one is a complete sentence.**"
   ]
  },
  {
   "cell_type": "markdown",
   "metadata": {},
   "source": [
    "The histogram for the present salaries is right-skewed. For the hisogram depicting the number of employees, it is also right-skewed. This implies that the average for both hisograms are greater than the median. "
   ]
  },
  {
   "cell_type": "markdown",
   "metadata": {},
   "source": [
    "<hr style=\"color: #DD3403;\">"
   ]
  },
  {
   "cell_type": "markdown",
   "metadata": {},
   "source": [
    "## Part 3: Gender and Salaries\n",
    "\n",
    "Data can often reveal **systemic problems or discrimination**. For example, in many companies, men and women are promoted at **different rates**.  Let’s look at a subset of the salary dataset to investigate whether or not there is a **difference in salaries** between faculty who identify as men and women in two departments: **STAT** and **CS** (Karle and Wade’s home departments). \n",
    "\n",
    "We've compiled data from these departments, added a `Gender` column, and placed it in a dataset called `STAT_CS_Gender_FA\n",
    "23.csv`. \n",
    "\n",
    "This data is also located in the **same directory as this lab**. To load it in, just specify the **local file path** (`\"STAT_CS_Gender_FA23.csv\"`)!"
   ]
  },
  {
   "cell_type": "markdown",
   "metadata": {},
   "source": [
    "### Puzzle 3.1: Loading Our Dataset\n",
    "Using the cell below, import `STAT_CS_Gender_FA23.csv`, store it in a variable called `STAT_CS_df`, and display it to see what it looks like!"
   ]
  },
  {
   "cell_type": "code",
   "execution_count": 90,
   "metadata": {
    "deletable": false,
    "nbgrader": {
     "cell_type": "code",
     "checksum": "fbf16695acaebfe92f608b5121644035",
     "grade": false,
     "grade_id": "cell-dca5763613817466",
     "locked": false,
     "schema_version": 3,
     "solution": true,
     "task": false
    }
   },
   "outputs": [
    {
     "data": {
      "text/html": [
       "<div>\n",
       "<style scoped>\n",
       "    .dataframe tbody tr th:only-of-type {\n",
       "        vertical-align: middle;\n",
       "    }\n",
       "\n",
       "    .dataframe tbody tr th {\n",
       "        vertical-align: top;\n",
       "    }\n",
       "\n",
       "    .dataframe thead th {\n",
       "        text-align: right;\n",
       "    }\n",
       "</style>\n",
       "<table border=\"1\" class=\"dataframe\">\n",
       "  <thead>\n",
       "    <tr style=\"text-align: right;\">\n",
       "      <th></th>\n",
       "      <th>Employee Name</th>\n",
       "      <th>Job Title</th>\n",
       "      <th>Gender</th>\n",
       "      <th>Tenure</th>\n",
       "      <th>Empl Class</th>\n",
       "      <th>Present FTE</th>\n",
       "      <th>Proposed FTE</th>\n",
       "      <th>Present Salary</th>\n",
       "      <th>Proposed Salary</th>\n",
       "      <th>College Code</th>\n",
       "      <th>College Name</th>\n",
       "      <th>Department Code</th>\n",
       "      <th>Department Name</th>\n",
       "    </tr>\n",
       "  </thead>\n",
       "  <tbody>\n",
       "    <tr>\n",
       "      <th>0</th>\n",
       "      <td>Abdelzaher, Tarek</td>\n",
       "      <td>PROF, CSL</td>\n",
       "      <td>M</td>\n",
       "      <td>NaN</td>\n",
       "      <td>NaN</td>\n",
       "      <td>1.0</td>\n",
       "      <td>1.0</td>\n",
       "      <td>208154.00</td>\n",
       "      <td>217521.00</td>\n",
       "      <td>KP</td>\n",
       "      <td>Grainger Engineering</td>\n",
       "      <td>434</td>\n",
       "      <td>Computer Science</td>\n",
       "    </tr>\n",
       "    <tr>\n",
       "      <th>1</th>\n",
       "      <td>Adve, Sarita V</td>\n",
       "      <td>PROF, CSL</td>\n",
       "      <td>F</td>\n",
       "      <td>NaN</td>\n",
       "      <td>NaN</td>\n",
       "      <td>1.0</td>\n",
       "      <td>1.0</td>\n",
       "      <td>218504.00</td>\n",
       "      <td>230000.00</td>\n",
       "      <td>KP</td>\n",
       "      <td>Grainger Engineering</td>\n",
       "      <td>434</td>\n",
       "      <td>Computer Science</td>\n",
       "    </tr>\n",
       "    <tr>\n",
       "      <th>2</th>\n",
       "      <td>Adve, Vikram Sadanand</td>\n",
       "      <td>PROF, CSL</td>\n",
       "      <td>M</td>\n",
       "      <td>NaN</td>\n",
       "      <td>NaN</td>\n",
       "      <td>1.0</td>\n",
       "      <td>1.0</td>\n",
       "      <td>218462.00</td>\n",
       "      <td>230000.00</td>\n",
       "      <td>KP</td>\n",
       "      <td>Grainger Engineering</td>\n",
       "      <td>434</td>\n",
       "      <td>Computer Science</td>\n",
       "    </tr>\n",
       "    <tr>\n",
       "      <th>3</th>\n",
       "      <td>Alawini, Abdussalam Alhadi M</td>\n",
       "      <td>TCH ASST PROF</td>\n",
       "      <td>M</td>\n",
       "      <td>M</td>\n",
       "      <td>AA</td>\n",
       "      <td>1.0</td>\n",
       "      <td>1.0</td>\n",
       "      <td>105575.00</td>\n",
       "      <td>110326.00</td>\n",
       "      <td>KP</td>\n",
       "      <td>Grainger Engineering</td>\n",
       "      <td>434</td>\n",
       "      <td>Computer Science</td>\n",
       "    </tr>\n",
       "    <tr>\n",
       "      <th>4</th>\n",
       "      <td>Amato, Nancy Marie</td>\n",
       "      <td>PROF</td>\n",
       "      <td>F</td>\n",
       "      <td>NaN</td>\n",
       "      <td>NaN</td>\n",
       "      <td>1.0</td>\n",
       "      <td>1.0</td>\n",
       "      <td>272500.00</td>\n",
       "      <td>289238.00</td>\n",
       "      <td>KP</td>\n",
       "      <td>Grainger Engineering</td>\n",
       "      <td>434</td>\n",
       "      <td>Computer Science</td>\n",
       "    </tr>\n",
       "    <tr>\n",
       "      <th>...</th>\n",
       "      <td>...</td>\n",
       "      <td>...</td>\n",
       "      <td>...</td>\n",
       "      <td>...</td>\n",
       "      <td>...</td>\n",
       "      <td>...</td>\n",
       "      <td>...</td>\n",
       "      <td>...</td>\n",
       "      <td>...</td>\n",
       "      <td>...</td>\n",
       "      <td>...</td>\n",
       "      <td>...</td>\n",
       "      <td>...</td>\n",
       "    </tr>\n",
       "    <tr>\n",
       "      <th>178</th>\n",
       "      <td>Stepanov, Alexey G</td>\n",
       "      <td>SR LECTURER</td>\n",
       "      <td>M</td>\n",
       "      <td>NaN</td>\n",
       "      <td>AA</td>\n",
       "      <td>1.0</td>\n",
       "      <td>1.0</td>\n",
       "      <td>94174.57</td>\n",
       "      <td>100004.19</td>\n",
       "      <td>KV</td>\n",
       "      <td>Liberal Arts &amp; Sciences</td>\n",
       "      <td>583</td>\n",
       "      <td>Statistics</td>\n",
       "    </tr>\n",
       "    <tr>\n",
       "      <th>179</th>\n",
       "      <td>Unger, David</td>\n",
       "      <td>SR INSTR</td>\n",
       "      <td>M</td>\n",
       "      <td>NaN</td>\n",
       "      <td>NaN</td>\n",
       "      <td>1.0</td>\n",
       "      <td>1.0</td>\n",
       "      <td>114337.97</td>\n",
       "      <td>117989.80</td>\n",
       "      <td>KV</td>\n",
       "      <td>Liberal Arts &amp; Sciences</td>\n",
       "      <td>583</td>\n",
       "      <td>Statistics</td>\n",
       "    </tr>\n",
       "    <tr>\n",
       "      <th>180</th>\n",
       "      <td>Wang, Shulei</td>\n",
       "      <td>ASST PROF</td>\n",
       "      <td>M</td>\n",
       "      <td>NaN</td>\n",
       "      <td>NaN</td>\n",
       "      <td>1.0</td>\n",
       "      <td>1.0</td>\n",
       "      <td>107100.00</td>\n",
       "      <td>111348.50</td>\n",
       "      <td>KV</td>\n",
       "      <td>Liberal Arts &amp; Sciences</td>\n",
       "      <td>583</td>\n",
       "      <td>Statistics</td>\n",
       "    </tr>\n",
       "    <tr>\n",
       "      <th>181</th>\n",
       "      <td>Yang, Yun</td>\n",
       "      <td>ASSOC PROF</td>\n",
       "      <td>M</td>\n",
       "      <td>A</td>\n",
       "      <td>AA</td>\n",
       "      <td>1.0</td>\n",
       "      <td>1.0</td>\n",
       "      <td>106590.00</td>\n",
       "      <td>119120.65</td>\n",
       "      <td>KV</td>\n",
       "      <td>Liberal Arts &amp; Sciences</td>\n",
       "      <td>583</td>\n",
       "      <td>Statistics</td>\n",
       "    </tr>\n",
       "    <tr>\n",
       "      <th>182</th>\n",
       "      <td>Yu, Albert</td>\n",
       "      <td>INSTR</td>\n",
       "      <td>M</td>\n",
       "      <td>NaN</td>\n",
       "      <td>AA</td>\n",
       "      <td>1.0</td>\n",
       "      <td>1.0</td>\n",
       "      <td>66585.60</td>\n",
       "      <td>69516.10</td>\n",
       "      <td>KV</td>\n",
       "      <td>Liberal Arts &amp; Sciences</td>\n",
       "      <td>583</td>\n",
       "      <td>Statistics</td>\n",
       "    </tr>\n",
       "  </tbody>\n",
       "</table>\n",
       "<p>183 rows × 13 columns</p>\n",
       "</div>"
      ],
      "text/plain": [
       "                    Employee Name      Job Title Gender Tenure Empl Class  \\\n",
       "0               Abdelzaher, Tarek      PROF, CSL      M    NaN        NaN   \n",
       "1                  Adve, Sarita V      PROF, CSL      F    NaN        NaN   \n",
       "2           Adve, Vikram Sadanand      PROF, CSL      M    NaN        NaN   \n",
       "3    Alawini, Abdussalam Alhadi M  TCH ASST PROF      M      M         AA   \n",
       "4              Amato, Nancy Marie           PROF      F    NaN        NaN   \n",
       "..                            ...            ...    ...    ...        ...   \n",
       "178            Stepanov, Alexey G    SR LECTURER      M    NaN         AA   \n",
       "179                  Unger, David       SR INSTR      M    NaN        NaN   \n",
       "180                  Wang, Shulei      ASST PROF      M    NaN        NaN   \n",
       "181                     Yang, Yun     ASSOC PROF      M      A         AA   \n",
       "182                    Yu, Albert          INSTR      M    NaN         AA   \n",
       "\n",
       "     Present FTE  Proposed FTE  Present Salary  Proposed Salary College Code  \\\n",
       "0            1.0           1.0       208154.00        217521.00           KP   \n",
       "1            1.0           1.0       218504.00        230000.00           KP   \n",
       "2            1.0           1.0       218462.00        230000.00           KP   \n",
       "3            1.0           1.0       105575.00        110326.00           KP   \n",
       "4            1.0           1.0       272500.00        289238.00           KP   \n",
       "..           ...           ...             ...              ...          ...   \n",
       "178          1.0           1.0        94174.57        100004.19           KV   \n",
       "179          1.0           1.0       114337.97        117989.80           KV   \n",
       "180          1.0           1.0       107100.00        111348.50           KV   \n",
       "181          1.0           1.0       106590.00        119120.65           KV   \n",
       "182          1.0           1.0        66585.60         69516.10           KV   \n",
       "\n",
       "                College Name  Department Code   Department Name  \n",
       "0       Grainger Engineering              434  Computer Science  \n",
       "1       Grainger Engineering              434  Computer Science  \n",
       "2       Grainger Engineering              434  Computer Science  \n",
       "3       Grainger Engineering              434  Computer Science  \n",
       "4       Grainger Engineering              434  Computer Science  \n",
       "..                       ...              ...               ...  \n",
       "178  Liberal Arts & Sciences              583        Statistics  \n",
       "179  Liberal Arts & Sciences              583        Statistics  \n",
       "180  Liberal Arts & Sciences              583        Statistics  \n",
       "181  Liberal Arts & Sciences              583        Statistics  \n",
       "182  Liberal Arts & Sciences              583        Statistics  \n",
       "\n",
       "[183 rows x 13 columns]"
      ]
     },
     "execution_count": 90,
     "metadata": {},
     "output_type": "execute_result"
    }
   ],
   "source": [
    "STAT_CS_df = pd.read_csv(\"STAT_CS_Gender_FA23.csv\")\n",
    "STAT_CS_df"
   ]
  },
  {
   "cell_type": "markdown",
   "metadata": {},
   "source": [
    "Now, let's create **two subsets** of our `STAT_CS_df`. \n",
    "\n",
    "Using conditionals in the cells below, create:\n",
    "- `STAT_CS_M`, a `DataFrame` of the staff and faculty who identify as Male (**\"M\"**) under the `Gender` column \n",
    "- `STAT_CS_F`, a `DataFrame` of the staff and faculty who identified as Female (**\"F\"**) under the `Gender` column "
   ]
  },
  {
   "cell_type": "code",
   "execution_count": 91,
   "metadata": {},
   "outputs": [
    {
     "data": {
      "text/html": [
       "<div>\n",
       "<style scoped>\n",
       "    .dataframe tbody tr th:only-of-type {\n",
       "        vertical-align: middle;\n",
       "    }\n",
       "\n",
       "    .dataframe tbody tr th {\n",
       "        vertical-align: top;\n",
       "    }\n",
       "\n",
       "    .dataframe thead th {\n",
       "        text-align: right;\n",
       "    }\n",
       "</style>\n",
       "<table border=\"1\" class=\"dataframe\">\n",
       "  <thead>\n",
       "    <tr style=\"text-align: right;\">\n",
       "      <th></th>\n",
       "      <th>Employee Name</th>\n",
       "      <th>Job Title</th>\n",
       "      <th>Gender</th>\n",
       "      <th>Tenure</th>\n",
       "      <th>Empl Class</th>\n",
       "      <th>Present FTE</th>\n",
       "      <th>Proposed FTE</th>\n",
       "      <th>Present Salary</th>\n",
       "      <th>Proposed Salary</th>\n",
       "      <th>College Code</th>\n",
       "      <th>College Name</th>\n",
       "      <th>Department Code</th>\n",
       "      <th>Department Name</th>\n",
       "    </tr>\n",
       "  </thead>\n",
       "  <tbody>\n",
       "    <tr>\n",
       "      <th>0</th>\n",
       "      <td>Abdelzaher, Tarek</td>\n",
       "      <td>PROF, CSL</td>\n",
       "      <td>M</td>\n",
       "      <td>NaN</td>\n",
       "      <td>NaN</td>\n",
       "      <td>1.0</td>\n",
       "      <td>1.0</td>\n",
       "      <td>208154.00</td>\n",
       "      <td>217521.00</td>\n",
       "      <td>KP</td>\n",
       "      <td>Grainger Engineering</td>\n",
       "      <td>434</td>\n",
       "      <td>Computer Science</td>\n",
       "    </tr>\n",
       "    <tr>\n",
       "      <th>2</th>\n",
       "      <td>Adve, Vikram Sadanand</td>\n",
       "      <td>PROF, CSL</td>\n",
       "      <td>M</td>\n",
       "      <td>NaN</td>\n",
       "      <td>NaN</td>\n",
       "      <td>1.0</td>\n",
       "      <td>1.0</td>\n",
       "      <td>218462.00</td>\n",
       "      <td>230000.00</td>\n",
       "      <td>KP</td>\n",
       "      <td>Grainger Engineering</td>\n",
       "      <td>434</td>\n",
       "      <td>Computer Science</td>\n",
       "    </tr>\n",
       "    <tr>\n",
       "      <th>3</th>\n",
       "      <td>Alawini, Abdussalam Alhadi M</td>\n",
       "      <td>TCH ASST PROF</td>\n",
       "      <td>M</td>\n",
       "      <td>M</td>\n",
       "      <td>AA</td>\n",
       "      <td>1.0</td>\n",
       "      <td>1.0</td>\n",
       "      <td>105575.00</td>\n",
       "      <td>110326.00</td>\n",
       "      <td>KP</td>\n",
       "      <td>Grainger Engineering</td>\n",
       "      <td>434</td>\n",
       "      <td>Computer Science</td>\n",
       "    </tr>\n",
       "    <tr>\n",
       "      <th>5</th>\n",
       "      <td>Angrave, Lawrence Christopher</td>\n",
       "      <td>TCH PROF</td>\n",
       "      <td>M</td>\n",
       "      <td>M</td>\n",
       "      <td>AA</td>\n",
       "      <td>1.0</td>\n",
       "      <td>1.0</td>\n",
       "      <td>147088.00</td>\n",
       "      <td>153707.00</td>\n",
       "      <td>KP</td>\n",
       "      <td>Grainger Engineering</td>\n",
       "      <td>434</td>\n",
       "      <td>Computer Science</td>\n",
       "    </tr>\n",
       "    <tr>\n",
       "      <th>6</th>\n",
       "      <td>Asplund, Joshua Thomas</td>\n",
       "      <td>INSTRN DESIGNER</td>\n",
       "      <td>M</td>\n",
       "      <td>NaN</td>\n",
       "      <td>BA</td>\n",
       "      <td>1.0</td>\n",
       "      <td>1.0</td>\n",
       "      <td>81800.00</td>\n",
       "      <td>85481.00</td>\n",
       "      <td>KP</td>\n",
       "      <td>Grainger Engineering</td>\n",
       "      <td>434</td>\n",
       "      <td>Computer Science</td>\n",
       "    </tr>\n",
       "    <tr>\n",
       "      <th>...</th>\n",
       "      <td>...</td>\n",
       "      <td>...</td>\n",
       "      <td>...</td>\n",
       "      <td>...</td>\n",
       "      <td>...</td>\n",
       "      <td>...</td>\n",
       "      <td>...</td>\n",
       "      <td>...</td>\n",
       "      <td>...</td>\n",
       "      <td>...</td>\n",
       "      <td>...</td>\n",
       "      <td>...</td>\n",
       "      <td>...</td>\n",
       "    </tr>\n",
       "    <tr>\n",
       "      <th>178</th>\n",
       "      <td>Stepanov, Alexey G</td>\n",
       "      <td>SR LECTURER</td>\n",
       "      <td>M</td>\n",
       "      <td>NaN</td>\n",
       "      <td>AA</td>\n",
       "      <td>1.0</td>\n",
       "      <td>1.0</td>\n",
       "      <td>94174.57</td>\n",
       "      <td>100004.19</td>\n",
       "      <td>KV</td>\n",
       "      <td>Liberal Arts &amp; Sciences</td>\n",
       "      <td>583</td>\n",
       "      <td>Statistics</td>\n",
       "    </tr>\n",
       "    <tr>\n",
       "      <th>179</th>\n",
       "      <td>Unger, David</td>\n",
       "      <td>SR INSTR</td>\n",
       "      <td>M</td>\n",
       "      <td>NaN</td>\n",
       "      <td>NaN</td>\n",
       "      <td>1.0</td>\n",
       "      <td>1.0</td>\n",
       "      <td>114337.97</td>\n",
       "      <td>117989.80</td>\n",
       "      <td>KV</td>\n",
       "      <td>Liberal Arts &amp; Sciences</td>\n",
       "      <td>583</td>\n",
       "      <td>Statistics</td>\n",
       "    </tr>\n",
       "    <tr>\n",
       "      <th>180</th>\n",
       "      <td>Wang, Shulei</td>\n",
       "      <td>ASST PROF</td>\n",
       "      <td>M</td>\n",
       "      <td>NaN</td>\n",
       "      <td>NaN</td>\n",
       "      <td>1.0</td>\n",
       "      <td>1.0</td>\n",
       "      <td>107100.00</td>\n",
       "      <td>111348.50</td>\n",
       "      <td>KV</td>\n",
       "      <td>Liberal Arts &amp; Sciences</td>\n",
       "      <td>583</td>\n",
       "      <td>Statistics</td>\n",
       "    </tr>\n",
       "    <tr>\n",
       "      <th>181</th>\n",
       "      <td>Yang, Yun</td>\n",
       "      <td>ASSOC PROF</td>\n",
       "      <td>M</td>\n",
       "      <td>A</td>\n",
       "      <td>AA</td>\n",
       "      <td>1.0</td>\n",
       "      <td>1.0</td>\n",
       "      <td>106590.00</td>\n",
       "      <td>119120.65</td>\n",
       "      <td>KV</td>\n",
       "      <td>Liberal Arts &amp; Sciences</td>\n",
       "      <td>583</td>\n",
       "      <td>Statistics</td>\n",
       "    </tr>\n",
       "    <tr>\n",
       "      <th>182</th>\n",
       "      <td>Yu, Albert</td>\n",
       "      <td>INSTR</td>\n",
       "      <td>M</td>\n",
       "      <td>NaN</td>\n",
       "      <td>AA</td>\n",
       "      <td>1.0</td>\n",
       "      <td>1.0</td>\n",
       "      <td>66585.60</td>\n",
       "      <td>69516.10</td>\n",
       "      <td>KV</td>\n",
       "      <td>Liberal Arts &amp; Sciences</td>\n",
       "      <td>583</td>\n",
       "      <td>Statistics</td>\n",
       "    </tr>\n",
       "  </tbody>\n",
       "</table>\n",
       "<p>134 rows × 13 columns</p>\n",
       "</div>"
      ],
      "text/plain": [
       "                     Employee Name        Job Title Gender Tenure Empl Class  \\\n",
       "0                Abdelzaher, Tarek        PROF, CSL      M    NaN        NaN   \n",
       "2            Adve, Vikram Sadanand        PROF, CSL      M    NaN        NaN   \n",
       "3     Alawini, Abdussalam Alhadi M    TCH ASST PROF      M      M         AA   \n",
       "5    Angrave, Lawrence Christopher         TCH PROF      M      M         AA   \n",
       "6           Asplund, Joshua Thomas  INSTRN DESIGNER      M    NaN         BA   \n",
       "..                             ...              ...    ...    ...        ...   \n",
       "178             Stepanov, Alexey G      SR LECTURER      M    NaN         AA   \n",
       "179                   Unger, David         SR INSTR      M    NaN        NaN   \n",
       "180                   Wang, Shulei        ASST PROF      M    NaN        NaN   \n",
       "181                      Yang, Yun       ASSOC PROF      M      A         AA   \n",
       "182                     Yu, Albert            INSTR      M    NaN         AA   \n",
       "\n",
       "     Present FTE  Proposed FTE  Present Salary  Proposed Salary College Code  \\\n",
       "0            1.0           1.0       208154.00        217521.00           KP   \n",
       "2            1.0           1.0       218462.00        230000.00           KP   \n",
       "3            1.0           1.0       105575.00        110326.00           KP   \n",
       "5            1.0           1.0       147088.00        153707.00           KP   \n",
       "6            1.0           1.0        81800.00         85481.00           KP   \n",
       "..           ...           ...             ...              ...          ...   \n",
       "178          1.0           1.0        94174.57        100004.19           KV   \n",
       "179          1.0           1.0       114337.97        117989.80           KV   \n",
       "180          1.0           1.0       107100.00        111348.50           KV   \n",
       "181          1.0           1.0       106590.00        119120.65           KV   \n",
       "182          1.0           1.0        66585.60         69516.10           KV   \n",
       "\n",
       "                College Name  Department Code   Department Name  \n",
       "0       Grainger Engineering              434  Computer Science  \n",
       "2       Grainger Engineering              434  Computer Science  \n",
       "3       Grainger Engineering              434  Computer Science  \n",
       "5       Grainger Engineering              434  Computer Science  \n",
       "6       Grainger Engineering              434  Computer Science  \n",
       "..                       ...              ...               ...  \n",
       "178  Liberal Arts & Sciences              583        Statistics  \n",
       "179  Liberal Arts & Sciences              583        Statistics  \n",
       "180  Liberal Arts & Sciences              583        Statistics  \n",
       "181  Liberal Arts & Sciences              583        Statistics  \n",
       "182  Liberal Arts & Sciences              583        Statistics  \n",
       "\n",
       "[134 rows x 13 columns]"
      ]
     },
     "execution_count": 91,
     "metadata": {},
     "output_type": "execute_result"
    }
   ],
   "source": [
    "STAT_CS_M = STAT_CS_df[STAT_CS_df.Gender == \"M\"]\n",
    "STAT_CS_M"
   ]
  },
  {
   "cell_type": "code",
   "execution_count": 92,
   "metadata": {},
   "outputs": [
    {
     "data": {
      "text/html": [
       "<div>\n",
       "<style scoped>\n",
       "    .dataframe tbody tr th:only-of-type {\n",
       "        vertical-align: middle;\n",
       "    }\n",
       "\n",
       "    .dataframe tbody tr th {\n",
       "        vertical-align: top;\n",
       "    }\n",
       "\n",
       "    .dataframe thead th {\n",
       "        text-align: right;\n",
       "    }\n",
       "</style>\n",
       "<table border=\"1\" class=\"dataframe\">\n",
       "  <thead>\n",
       "    <tr style=\"text-align: right;\">\n",
       "      <th></th>\n",
       "      <th>Employee Name</th>\n",
       "      <th>Job Title</th>\n",
       "      <th>Gender</th>\n",
       "      <th>Tenure</th>\n",
       "      <th>Empl Class</th>\n",
       "      <th>Present FTE</th>\n",
       "      <th>Proposed FTE</th>\n",
       "      <th>Present Salary</th>\n",
       "      <th>Proposed Salary</th>\n",
       "      <th>College Code</th>\n",
       "      <th>College Name</th>\n",
       "      <th>Department Code</th>\n",
       "      <th>Department Name</th>\n",
       "    </tr>\n",
       "  </thead>\n",
       "  <tbody>\n",
       "    <tr>\n",
       "      <th>1</th>\n",
       "      <td>Adve, Sarita V</td>\n",
       "      <td>PROF, CSL</td>\n",
       "      <td>F</td>\n",
       "      <td>NaN</td>\n",
       "      <td>NaN</td>\n",
       "      <td>1.0</td>\n",
       "      <td>1.0</td>\n",
       "      <td>218504.00</td>\n",
       "      <td>230000.00</td>\n",
       "      <td>KP</td>\n",
       "      <td>Grainger Engineering</td>\n",
       "      <td>434</td>\n",
       "      <td>Computer Science</td>\n",
       "    </tr>\n",
       "    <tr>\n",
       "      <th>4</th>\n",
       "      <td>Amato, Nancy Marie</td>\n",
       "      <td>PROF</td>\n",
       "      <td>F</td>\n",
       "      <td>NaN</td>\n",
       "      <td>NaN</td>\n",
       "      <td>1.0</td>\n",
       "      <td>1.0</td>\n",
       "      <td>272500.00</td>\n",
       "      <td>289238.00</td>\n",
       "      <td>KP</td>\n",
       "      <td>Grainger Engineering</td>\n",
       "      <td>434</td>\n",
       "      <td>Computer Science</td>\n",
       "    </tr>\n",
       "    <tr>\n",
       "      <th>17</th>\n",
       "      <td>Chappell, Margaret Louise Metzger</td>\n",
       "      <td>GRAD PRGM SPEC &amp; ACAD ADVR</td>\n",
       "      <td>F</td>\n",
       "      <td>NaN</td>\n",
       "      <td>BA</td>\n",
       "      <td>1.0</td>\n",
       "      <td>1.0</td>\n",
       "      <td>50103.00</td>\n",
       "      <td>52107.00</td>\n",
       "      <td>KP</td>\n",
       "      <td>Grainger Engineering</td>\n",
       "      <td>434</td>\n",
       "      <td>Computer Science</td>\n",
       "    </tr>\n",
       "    <tr>\n",
       "      <th>20</th>\n",
       "      <td>Cho, Wendy K Tam</td>\n",
       "      <td>PROF, NCSA</td>\n",
       "      <td>F</td>\n",
       "      <td>NaN</td>\n",
       "      <td>NaN</td>\n",
       "      <td>1.0</td>\n",
       "      <td>1.0</td>\n",
       "      <td>168052.77</td>\n",
       "      <td>173130.85</td>\n",
       "      <td>KP</td>\n",
       "      <td>Grainger Engineering</td>\n",
       "      <td>434</td>\n",
       "      <td>Computer Science</td>\n",
       "    </tr>\n",
       "    <tr>\n",
       "      <th>21</th>\n",
       "      <td>Cobb, Camille Morgan</td>\n",
       "      <td>ASST PROF</td>\n",
       "      <td>F</td>\n",
       "      <td>P</td>\n",
       "      <td>AA</td>\n",
       "      <td>1.0</td>\n",
       "      <td>1.0</td>\n",
       "      <td>125000.00</td>\n",
       "      <td>130625.00</td>\n",
       "      <td>KP</td>\n",
       "      <td>Grainger Engineering</td>\n",
       "      <td>434</td>\n",
       "      <td>Computer Science</td>\n",
       "    </tr>\n",
       "    <tr>\n",
       "      <th>22</th>\n",
       "      <td>Coleman, Cynthia Jeanette</td>\n",
       "      <td>DIR EXTERNAL REL</td>\n",
       "      <td>F</td>\n",
       "      <td>NaN</td>\n",
       "      <td>BA</td>\n",
       "      <td>1.0</td>\n",
       "      <td>1.0</td>\n",
       "      <td>117936.00</td>\n",
       "      <td>122948.00</td>\n",
       "      <td>KP</td>\n",
       "      <td>Grainger Engineering</td>\n",
       "      <td>434</td>\n",
       "      <td>Computer Science</td>\n",
       "    </tr>\n",
       "    <tr>\n",
       "      <th>23</th>\n",
       "      <td>Comstock, Jennifer</td>\n",
       "      <td>ACAD ADVR</td>\n",
       "      <td>F</td>\n",
       "      <td>NaN</td>\n",
       "      <td>BA</td>\n",
       "      <td>1.0</td>\n",
       "      <td>1.0</td>\n",
       "      <td>50000.00</td>\n",
       "      <td>51875.00</td>\n",
       "      <td>KP</td>\n",
       "      <td>Grainger Engineering</td>\n",
       "      <td>434</td>\n",
       "      <td>Computer Science</td>\n",
       "    </tr>\n",
       "    <tr>\n",
       "      <th>25</th>\n",
       "      <td>Cunningham, Kathryn Irene</td>\n",
       "      <td>ASST PROF</td>\n",
       "      <td>F</td>\n",
       "      <td>P</td>\n",
       "      <td>AA</td>\n",
       "      <td>1.0</td>\n",
       "      <td>1.0</td>\n",
       "      <td>135000.00</td>\n",
       "      <td>135000.00</td>\n",
       "      <td>KP</td>\n",
       "      <td>Grainger Engineering</td>\n",
       "      <td>434</td>\n",
       "      <td>Computer Science</td>\n",
       "    </tr>\n",
       "    <tr>\n",
       "      <th>31</th>\n",
       "      <td>Diesner, Jana</td>\n",
       "      <td>ASSOC PROF</td>\n",
       "      <td>F</td>\n",
       "      <td>NaN</td>\n",
       "      <td>NaN</td>\n",
       "      <td>1.0</td>\n",
       "      <td>1.0</td>\n",
       "      <td>138000.00</td>\n",
       "      <td>143533.80</td>\n",
       "      <td>KP</td>\n",
       "      <td>Grainger Engineering</td>\n",
       "      <td>434</td>\n",
       "      <td>Computer Science</td>\n",
       "    </tr>\n",
       "    <tr>\n",
       "      <th>32</th>\n",
       "      <td>Driggs-Campbell, Katherine Rose</td>\n",
       "      <td>ASST PROF, CSL</td>\n",
       "      <td>F</td>\n",
       "      <td>NaN</td>\n",
       "      <td>NaN</td>\n",
       "      <td>1.0</td>\n",
       "      <td>1.0</td>\n",
       "      <td>131225.00</td>\n",
       "      <td>136841.00</td>\n",
       "      <td>KP</td>\n",
       "      <td>Grainger Engineering</td>\n",
       "      <td>434</td>\n",
       "      <td>Computer Science</td>\n",
       "    </tr>\n",
       "    <tr>\n",
       "      <th>40</th>\n",
       "      <td>Fleck, Margaret M</td>\n",
       "      <td>TEACHING PROF</td>\n",
       "      <td>F</td>\n",
       "      <td>NaN</td>\n",
       "      <td>NaN</td>\n",
       "      <td>1.0</td>\n",
       "      <td>1.0</td>\n",
       "      <td>140332.00</td>\n",
       "      <td>168750.00</td>\n",
       "      <td>KP</td>\n",
       "      <td>Grainger Engineering</td>\n",
       "      <td>434</td>\n",
       "      <td>Computer Science</td>\n",
       "    </tr>\n",
       "    <tr>\n",
       "      <th>45</th>\n",
       "      <td>Gertner, Yael</td>\n",
       "      <td>TCH ASST PROF</td>\n",
       "      <td>F</td>\n",
       "      <td>M</td>\n",
       "      <td>AA</td>\n",
       "      <td>1.0</td>\n",
       "      <td>1.0</td>\n",
       "      <td>105575.00</td>\n",
       "      <td>110326.00</td>\n",
       "      <td>KP</td>\n",
       "      <td>Grainger Engineering</td>\n",
       "      <td>434</td>\n",
       "      <td>Computer Science</td>\n",
       "    </tr>\n",
       "    <tr>\n",
       "      <th>47</th>\n",
       "      <td>Girju, Corina R</td>\n",
       "      <td>CSBS AFFILIATE</td>\n",
       "      <td>F</td>\n",
       "      <td>NaN</td>\n",
       "      <td>NaN</td>\n",
       "      <td>1.0</td>\n",
       "      <td>1.0</td>\n",
       "      <td>122184.78</td>\n",
       "      <td>137000.00</td>\n",
       "      <td>KP</td>\n",
       "      <td>Grainger Engineering</td>\n",
       "      <td>434</td>\n",
       "      <td>Computer Science</td>\n",
       "    </tr>\n",
       "    <tr>\n",
       "      <th>49</th>\n",
       "      <td>Gonzalez, Elizabeth Nicole Watts</td>\n",
       "      <td>SR ACADEMIC ADVISOR</td>\n",
       "      <td>F</td>\n",
       "      <td>NaN</td>\n",
       "      <td>BA</td>\n",
       "      <td>1.0</td>\n",
       "      <td>1.0</td>\n",
       "      <td>56545.00</td>\n",
       "      <td>59231.00</td>\n",
       "      <td>KP</td>\n",
       "      <td>Grainger Engineering</td>\n",
       "      <td>434</td>\n",
       "      <td>Computer Science</td>\n",
       "    </tr>\n",
       "    <tr>\n",
       "      <th>51</th>\n",
       "      <td>Gui, Liangyan</td>\n",
       "      <td>RES ASST PROF</td>\n",
       "      <td>F</td>\n",
       "      <td>NaN</td>\n",
       "      <td>AA</td>\n",
       "      <td>1.0</td>\n",
       "      <td>1.0</td>\n",
       "      <td>100000.00</td>\n",
       "      <td>104500.00</td>\n",
       "      <td>KP</td>\n",
       "      <td>Grainger Engineering</td>\n",
       "      <td>434</td>\n",
       "      <td>Computer Science</td>\n",
       "    </tr>\n",
       "    <tr>\n",
       "      <th>52</th>\n",
       "      <td>Gulley, Adrienne Monique</td>\n",
       "      <td>ICAN PRGM COORD &amp; ACAD ADVR</td>\n",
       "      <td>F</td>\n",
       "      <td>NaN</td>\n",
       "      <td>BA</td>\n",
       "      <td>1.0</td>\n",
       "      <td>1.0</td>\n",
       "      <td>63000.00</td>\n",
       "      <td>65678.00</td>\n",
       "      <td>KP</td>\n",
       "      <td>Grainger Engineering</td>\n",
       "      <td>434</td>\n",
       "      <td>Computer Science</td>\n",
       "    </tr>\n",
       "    <tr>\n",
       "      <th>54</th>\n",
       "      <td>Gunter, Elsa</td>\n",
       "      <td>RES PROF</td>\n",
       "      <td>F</td>\n",
       "      <td>NaN</td>\n",
       "      <td>NaN</td>\n",
       "      <td>1.0</td>\n",
       "      <td>1.0</td>\n",
       "      <td>165862.00</td>\n",
       "      <td>172988.00</td>\n",
       "      <td>KP</td>\n",
       "      <td>Grainger Engineering</td>\n",
       "      <td>434</td>\n",
       "      <td>Computer Science</td>\n",
       "    </tr>\n",
       "    <tr>\n",
       "      <th>61</th>\n",
       "      <td>He, Jing Rui</td>\n",
       "      <td>ASSOC PROF</td>\n",
       "      <td>F</td>\n",
       "      <td>NaN</td>\n",
       "      <td>NaN</td>\n",
       "      <td>1.0</td>\n",
       "      <td>1.0</td>\n",
       "      <td>138000.00</td>\n",
       "      <td>143533.80</td>\n",
       "      <td>KP</td>\n",
       "      <td>Grainger Engineering</td>\n",
       "      <td>434</td>\n",
       "      <td>Computer Science</td>\n",
       "    </tr>\n",
       "    <tr>\n",
       "      <th>64</th>\n",
       "      <td>Hockenmaier, Julia Constanze</td>\n",
       "      <td>PROF</td>\n",
       "      <td>F</td>\n",
       "      <td>NaN</td>\n",
       "      <td>NaN</td>\n",
       "      <td>1.0</td>\n",
       "      <td>1.0</td>\n",
       "      <td>167000.00</td>\n",
       "      <td>174515.00</td>\n",
       "      <td>KP</td>\n",
       "      <td>Grainger Engineering</td>\n",
       "      <td>434</td>\n",
       "      <td>Computer Science</td>\n",
       "    </tr>\n",
       "    <tr>\n",
       "      <th>68</th>\n",
       "      <td>Huang, Yun</td>\n",
       "      <td>ASSOC PROF</td>\n",
       "      <td>F</td>\n",
       "      <td>NaN</td>\n",
       "      <td>NaN</td>\n",
       "      <td>1.0</td>\n",
       "      <td>1.0</td>\n",
       "      <td>96900.00</td>\n",
       "      <td>112097.74</td>\n",
       "      <td>KP</td>\n",
       "      <td>Grainger Engineering</td>\n",
       "      <td>434</td>\n",
       "      <td>Computer Science</td>\n",
       "    </tr>\n",
       "    <tr>\n",
       "      <th>70</th>\n",
       "      <td>Jabbarvand Behrouz, Reyhaneh</td>\n",
       "      <td>ASST PROF</td>\n",
       "      <td>F</td>\n",
       "      <td>P</td>\n",
       "      <td>AA</td>\n",
       "      <td>1.0</td>\n",
       "      <td>1.0</td>\n",
       "      <td>127500.00</td>\n",
       "      <td>133238.00</td>\n",
       "      <td>KP</td>\n",
       "      <td>Grainger Engineering</td>\n",
       "      <td>434</td>\n",
       "      <td>Computer Science</td>\n",
       "    </tr>\n",
       "    <tr>\n",
       "      <th>71</th>\n",
       "      <td>Jagoda, Lisa Rene</td>\n",
       "      <td>GRAD PRGM SPEC &amp; ACAD ADVR</td>\n",
       "      <td>F</td>\n",
       "      <td>NaN</td>\n",
       "      <td>BA</td>\n",
       "      <td>1.0</td>\n",
       "      <td>1.0</td>\n",
       "      <td>50103.00</td>\n",
       "      <td>52107.00</td>\n",
       "      <td>KP</td>\n",
       "      <td>Grainger Engineering</td>\n",
       "      <td>434</td>\n",
       "      <td>Computer Science</td>\n",
       "    </tr>\n",
       "    <tr>\n",
       "      <th>72</th>\n",
       "      <td>Ji, Heng</td>\n",
       "      <td>PROF</td>\n",
       "      <td>F</td>\n",
       "      <td>A</td>\n",
       "      <td>AA</td>\n",
       "      <td>1.0</td>\n",
       "      <td>1.0</td>\n",
       "      <td>176800.00</td>\n",
       "      <td>184756.00</td>\n",
       "      <td>KP</td>\n",
       "      <td>Grainger Engineering</td>\n",
       "      <td>434</td>\n",
       "      <td>Computer Science</td>\n",
       "    </tr>\n",
       "    <tr>\n",
       "      <th>75</th>\n",
       "      <td>Karahalios, Kyratso George</td>\n",
       "      <td>PROF, CSL</td>\n",
       "      <td>F</td>\n",
       "      <td>NaN</td>\n",
       "      <td>NaN</td>\n",
       "      <td>1.0</td>\n",
       "      <td>1.0</td>\n",
       "      <td>176955.00</td>\n",
       "      <td>184033.00</td>\n",
       "      <td>KP</td>\n",
       "      <td>Grainger Engineering</td>\n",
       "      <td>434</td>\n",
       "      <td>Computer Science</td>\n",
       "    </tr>\n",
       "    <tr>\n",
       "      <th>78</th>\n",
       "      <td>Khurana, Dakshita</td>\n",
       "      <td>ASST PROF</td>\n",
       "      <td>F</td>\n",
       "      <td>P</td>\n",
       "      <td>AA</td>\n",
       "      <td>1.0</td>\n",
       "      <td>1.0</td>\n",
       "      <td>127500.00</td>\n",
       "      <td>133238.00</td>\n",
       "      <td>KP</td>\n",
       "      <td>Grainger Engineering</td>\n",
       "      <td>434</td>\n",
       "      <td>Computer Science</td>\n",
       "    </tr>\n",
       "    <tr>\n",
       "      <th>83</th>\n",
       "      <td>Kravets, Robin Hillary</td>\n",
       "      <td>PROF, CSL</td>\n",
       "      <td>F</td>\n",
       "      <td>NaN</td>\n",
       "      <td>NaN</td>\n",
       "      <td>1.0</td>\n",
       "      <td>1.0</td>\n",
       "      <td>181267.00</td>\n",
       "      <td>189087.00</td>\n",
       "      <td>KP</td>\n",
       "      <td>Grainger Engineering</td>\n",
       "      <td>434</td>\n",
       "      <td>Computer Science</td>\n",
       "    </tr>\n",
       "    <tr>\n",
       "      <th>85</th>\n",
       "      <td>Kumar, Ranjitha</td>\n",
       "      <td>ASSOC PROF</td>\n",
       "      <td>F</td>\n",
       "      <td>NaN</td>\n",
       "      <td>NaN</td>\n",
       "      <td>1.0</td>\n",
       "      <td>1.0</td>\n",
       "      <td>142500.00</td>\n",
       "      <td>148913.00</td>\n",
       "      <td>KP</td>\n",
       "      <td>Grainger Engineering</td>\n",
       "      <td>434</td>\n",
       "      <td>Computer Science</td>\n",
       "    </tr>\n",
       "    <tr>\n",
       "      <th>87</th>\n",
       "      <td>Lazebnik, Svetlana</td>\n",
       "      <td>PROF</td>\n",
       "      <td>F</td>\n",
       "      <td>A</td>\n",
       "      <td>AA</td>\n",
       "      <td>1.0</td>\n",
       "      <td>1.0</td>\n",
       "      <td>167000.00</td>\n",
       "      <td>174515.00</td>\n",
       "      <td>KP</td>\n",
       "      <td>Grainger Engineering</td>\n",
       "      <td>434</td>\n",
       "      <td>Computer Science</td>\n",
       "    </tr>\n",
       "    <tr>\n",
       "      <th>89</th>\n",
       "      <td>Lewis, Colleen Marie</td>\n",
       "      <td>ASSOC PROF</td>\n",
       "      <td>F</td>\n",
       "      <td>A</td>\n",
       "      <td>AA</td>\n",
       "      <td>1.0</td>\n",
       "      <td>1.0</td>\n",
       "      <td>140600.00</td>\n",
       "      <td>146927.00</td>\n",
       "      <td>KP</td>\n",
       "      <td>Grainger Engineering</td>\n",
       "      <td>434</td>\n",
       "      <td>Computer Science</td>\n",
       "    </tr>\n",
       "    <tr>\n",
       "      <th>90</th>\n",
       "      <td>Li, Bo</td>\n",
       "      <td>CHAIR STATISTICS</td>\n",
       "      <td>F</td>\n",
       "      <td>NaN</td>\n",
       "      <td>NaN</td>\n",
       "      <td>1.0</td>\n",
       "      <td>1.0</td>\n",
       "      <td>127500.00</td>\n",
       "      <td>133238.00</td>\n",
       "      <td>KP</td>\n",
       "      <td>Grainger Engineering</td>\n",
       "      <td>434</td>\n",
       "      <td>Computer Science</td>\n",
       "    </tr>\n",
       "    <tr>\n",
       "      <th>91</th>\n",
       "      <td>Liu, Hongye</td>\n",
       "      <td>TCH ASST PROF</td>\n",
       "      <td>F</td>\n",
       "      <td>M</td>\n",
       "      <td>AA</td>\n",
       "      <td>1.0</td>\n",
       "      <td>1.0</td>\n",
       "      <td>105063.00</td>\n",
       "      <td>109791.00</td>\n",
       "      <td>KP</td>\n",
       "      <td>Grainger Engineering</td>\n",
       "      <td>434</td>\n",
       "      <td>Computer Science</td>\n",
       "    </tr>\n",
       "    <tr>\n",
       "      <th>95</th>\n",
       "      <td>Marmon, Desiree Chantal Irene</td>\n",
       "      <td>GRAD PRGM SPEC &amp; ACAD ADVR</td>\n",
       "      <td>F</td>\n",
       "      <td>NaN</td>\n",
       "      <td>BA</td>\n",
       "      <td>1.0</td>\n",
       "      <td>1.0</td>\n",
       "      <td>51105.00</td>\n",
       "      <td>53149.00</td>\n",
       "      <td>KP</td>\n",
       "      <td>Grainger Engineering</td>\n",
       "      <td>434</td>\n",
       "      <td>Computer Science</td>\n",
       "    </tr>\n",
       "    <tr>\n",
       "      <th>96</th>\n",
       "      <td>Martinez, Christine J</td>\n",
       "      <td>COORD OF ONLINE PRGMS</td>\n",
       "      <td>F</td>\n",
       "      <td>NaN</td>\n",
       "      <td>BA</td>\n",
       "      <td>1.0</td>\n",
       "      <td>1.0</td>\n",
       "      <td>63344.00</td>\n",
       "      <td>63344.00</td>\n",
       "      <td>KP</td>\n",
       "      <td>Grainger Engineering</td>\n",
       "      <td>434</td>\n",
       "      <td>Computer Science</td>\n",
       "    </tr>\n",
       "    <tr>\n",
       "      <th>97</th>\n",
       "      <td>Mehta, Ruta</td>\n",
       "      <td>ASST PROF, CSL</td>\n",
       "      <td>F</td>\n",
       "      <td>NaN</td>\n",
       "      <td>NaN</td>\n",
       "      <td>1.0</td>\n",
       "      <td>1.0</td>\n",
       "      <td>129540.00</td>\n",
       "      <td>135369.00</td>\n",
       "      <td>KP</td>\n",
       "      <td>Grainger Engineering</td>\n",
       "      <td>434</td>\n",
       "      <td>Computer Science</td>\n",
       "    </tr>\n",
       "    <tr>\n",
       "      <th>100</th>\n",
       "      <td>Milenkovic, Olgica</td>\n",
       "      <td>PROF, CSL</td>\n",
       "      <td>F</td>\n",
       "      <td>NaN</td>\n",
       "      <td>NaN</td>\n",
       "      <td>1.0</td>\n",
       "      <td>1.0</td>\n",
       "      <td>167249.00</td>\n",
       "      <td>174332.00</td>\n",
       "      <td>KP</td>\n",
       "      <td>Grainger Engineering</td>\n",
       "      <td>434</td>\n",
       "      <td>Computer Science</td>\n",
       "    </tr>\n",
       "    <tr>\n",
       "      <th>104</th>\n",
       "      <td>Mittal, Radhika</td>\n",
       "      <td>ASST PROF, CSL</td>\n",
       "      <td>F</td>\n",
       "      <td>NaN</td>\n",
       "      <td>NaN</td>\n",
       "      <td>1.0</td>\n",
       "      <td>1.0</td>\n",
       "      <td>114580.00</td>\n",
       "      <td>122213.00</td>\n",
       "      <td>KP</td>\n",
       "      <td>Grainger Engineering</td>\n",
       "      <td>434</td>\n",
       "      <td>Computer Science</td>\n",
       "    </tr>\n",
       "    <tr>\n",
       "      <th>112</th>\n",
       "      <td>Phelps, Cassandra Renee</td>\n",
       "      <td>ACAD ADVR</td>\n",
       "      <td>F</td>\n",
       "      <td>NaN</td>\n",
       "      <td>BA</td>\n",
       "      <td>1.0</td>\n",
       "      <td>1.0</td>\n",
       "      <td>48500.00</td>\n",
       "      <td>50440.00</td>\n",
       "      <td>KP</td>\n",
       "      <td>Grainger Engineering</td>\n",
       "      <td>434</td>\n",
       "      <td>Computer Science</td>\n",
       "    </tr>\n",
       "    <tr>\n",
       "      <th>116</th>\n",
       "      <td>Ringer, Talia Lily</td>\n",
       "      <td>ASST PROF</td>\n",
       "      <td>F</td>\n",
       "      <td>P</td>\n",
       "      <td>AA</td>\n",
       "      <td>1.0</td>\n",
       "      <td>1.0</td>\n",
       "      <td>125000.00</td>\n",
       "      <td>130625.00</td>\n",
       "      <td>KP</td>\n",
       "      <td>Grainger Engineering</td>\n",
       "      <td>434</td>\n",
       "      <td>Computer Science</td>\n",
       "    </tr>\n",
       "    <tr>\n",
       "      <th>117</th>\n",
       "      <td>Rose, Jennifer</td>\n",
       "      <td>ACAD ADVR</td>\n",
       "      <td>F</td>\n",
       "      <td>NaN</td>\n",
       "      <td>BA</td>\n",
       "      <td>1.0</td>\n",
       "      <td>1.0</td>\n",
       "      <td>50000.00</td>\n",
       "      <td>52000.00</td>\n",
       "      <td>KP</td>\n",
       "      <td>Grainger Engineering</td>\n",
       "      <td>434</td>\n",
       "      <td>Computer Science</td>\n",
       "    </tr>\n",
       "    <tr>\n",
       "      <th>124</th>\n",
       "      <td>Silva, Mariana Teixeira</td>\n",
       "      <td>TCH ASSOC PROF</td>\n",
       "      <td>F</td>\n",
       "      <td>M</td>\n",
       "      <td>AA</td>\n",
       "      <td>1.0</td>\n",
       "      <td>1.0</td>\n",
       "      <td>123000.00</td>\n",
       "      <td>128535.00</td>\n",
       "      <td>KP</td>\n",
       "      <td>Grainger Engineering</td>\n",
       "      <td>434</td>\n",
       "      <td>Computer Science</td>\n",
       "    </tr>\n",
       "    <tr>\n",
       "      <th>129</th>\n",
       "      <td>Soltanaghaei Koupaei, Elaheh</td>\n",
       "      <td>ASST PROF, CSL</td>\n",
       "      <td>F</td>\n",
       "      <td>NaN</td>\n",
       "      <td>NaN</td>\n",
       "      <td>1.0</td>\n",
       "      <td>1.0</td>\n",
       "      <td>125000.00</td>\n",
       "      <td>130625.00</td>\n",
       "      <td>KP</td>\n",
       "      <td>Grainger Engineering</td>\n",
       "      <td>434</td>\n",
       "      <td>Computer Science</td>\n",
       "    </tr>\n",
       "    <tr>\n",
       "      <th>131</th>\n",
       "      <td>Tahboub, Ruby</td>\n",
       "      <td>TCH ASST PROF</td>\n",
       "      <td>F</td>\n",
       "      <td>NaN</td>\n",
       "      <td>AA</td>\n",
       "      <td>1.0</td>\n",
       "      <td>1.0</td>\n",
       "      <td>135000.00</td>\n",
       "      <td>135000.00</td>\n",
       "      <td>KP</td>\n",
       "      <td>Grainger Engineering</td>\n",
       "      <td>434</td>\n",
       "      <td>Computer Science</td>\n",
       "    </tr>\n",
       "    <tr>\n",
       "      <th>145</th>\n",
       "      <td>Wellens, Michelle Renee</td>\n",
       "      <td>SR DIR COMNC &amp; CONSTIT ENGAGMT</td>\n",
       "      <td>F</td>\n",
       "      <td>NaN</td>\n",
       "      <td>BA</td>\n",
       "      <td>1.0</td>\n",
       "      <td>1.0</td>\n",
       "      <td>119831.70</td>\n",
       "      <td>124924.70</td>\n",
       "      <td>KP</td>\n",
       "      <td>Grainger Engineering</td>\n",
       "      <td>434</td>\n",
       "      <td>Computer Science</td>\n",
       "    </tr>\n",
       "    <tr>\n",
       "      <th>146</th>\n",
       "      <td>Williams, Tiffani L</td>\n",
       "      <td>DIR OF ONRAMP PRGMS</td>\n",
       "      <td>F</td>\n",
       "      <td>NaN</td>\n",
       "      <td>NaN</td>\n",
       "      <td>1.0</td>\n",
       "      <td>1.0</td>\n",
       "      <td>178172.00</td>\n",
       "      <td>185178.00</td>\n",
       "      <td>KP</td>\n",
       "      <td>Grainger Engineering</td>\n",
       "      <td>434</td>\n",
       "      <td>Computer Science</td>\n",
       "    </tr>\n",
       "    <tr>\n",
       "      <th>155</th>\n",
       "      <td>Zike, Heather</td>\n",
       "      <td>UGRAD PRGM COORD &amp; ACAD ADVR</td>\n",
       "      <td>F</td>\n",
       "      <td>NaN</td>\n",
       "      <td>BA</td>\n",
       "      <td>1.0</td>\n",
       "      <td>1.0</td>\n",
       "      <td>62968.40</td>\n",
       "      <td>65487.40</td>\n",
       "      <td>KP</td>\n",
       "      <td>Grainger Engineering</td>\n",
       "      <td>434</td>\n",
       "      <td>Computer Science</td>\n",
       "    </tr>\n",
       "    <tr>\n",
       "      <th>157</th>\n",
       "      <td>Anderson Bliss, Jennifer Mary</td>\n",
       "      <td>ACADEMIC ADVISOR</td>\n",
       "      <td>F</td>\n",
       "      <td>NaN</td>\n",
       "      <td>BA</td>\n",
       "      <td>1.0</td>\n",
       "      <td>1.0</td>\n",
       "      <td>52147.50</td>\n",
       "      <td>53972.66</td>\n",
       "      <td>KV</td>\n",
       "      <td>Liberal Arts &amp; Sciences</td>\n",
       "      <td>583</td>\n",
       "      <td>Statistics</td>\n",
       "    </tr>\n",
       "    <tr>\n",
       "      <th>162</th>\n",
       "      <td>Deeke, Julie M</td>\n",
       "      <td>TCH ASST PROF</td>\n",
       "      <td>F</td>\n",
       "      <td>NaN</td>\n",
       "      <td>AA</td>\n",
       "      <td>1.0</td>\n",
       "      <td>1.0</td>\n",
       "      <td>87000.00</td>\n",
       "      <td>90045.00</td>\n",
       "      <td>KV</td>\n",
       "      <td>Liberal Arts &amp; Sciences</td>\n",
       "      <td>583</td>\n",
       "      <td>Statistics</td>\n",
       "    </tr>\n",
       "    <tr>\n",
       "      <th>165</th>\n",
       "      <td>Ellison, Victoria Marie</td>\n",
       "      <td>TCH ASST PROF</td>\n",
       "      <td>F</td>\n",
       "      <td>NaN</td>\n",
       "      <td>AA</td>\n",
       "      <td>1.0</td>\n",
       "      <td>1.0</td>\n",
       "      <td>86700.00</td>\n",
       "      <td>90134.50</td>\n",
       "      <td>KV</td>\n",
       "      <td>Liberal Arts &amp; Sciences</td>\n",
       "      <td>583</td>\n",
       "      <td>Statistics</td>\n",
       "    </tr>\n",
       "    <tr>\n",
       "      <th>167</th>\n",
       "      <td>Flanagan, Karle Ann</td>\n",
       "      <td>SR INSTRUCTOR</td>\n",
       "      <td>F</td>\n",
       "      <td>NaN</td>\n",
       "      <td>AA</td>\n",
       "      <td>1.0</td>\n",
       "      <td>1.0</td>\n",
       "      <td>81583.90</td>\n",
       "      <td>85255.18</td>\n",
       "      <td>KV</td>\n",
       "      <td>Liberal Arts &amp; Sciences</td>\n",
       "      <td>583</td>\n",
       "      <td>Statistics</td>\n",
       "    </tr>\n",
       "  </tbody>\n",
       "</table>\n",
       "</div>"
      ],
      "text/plain": [
       "                         Employee Name                       Job Title Gender  \\\n",
       "1                       Adve, Sarita V                       PROF, CSL      F   \n",
       "4                   Amato, Nancy Marie                            PROF      F   \n",
       "17   Chappell, Margaret Louise Metzger      GRAD PRGM SPEC & ACAD ADVR      F   \n",
       "20                    Cho, Wendy K Tam                      PROF, NCSA      F   \n",
       "21                Cobb, Camille Morgan                       ASST PROF      F   \n",
       "22           Coleman, Cynthia Jeanette                DIR EXTERNAL REL      F   \n",
       "23                  Comstock, Jennifer                       ACAD ADVR      F   \n",
       "25           Cunningham, Kathryn Irene                       ASST PROF      F   \n",
       "31                       Diesner, Jana                      ASSOC PROF      F   \n",
       "32     Driggs-Campbell, Katherine Rose                  ASST PROF, CSL      F   \n",
       "40                   Fleck, Margaret M                   TEACHING PROF      F   \n",
       "45                       Gertner, Yael                   TCH ASST PROF      F   \n",
       "47                     Girju, Corina R                  CSBS AFFILIATE      F   \n",
       "49    Gonzalez, Elizabeth Nicole Watts             SR ACADEMIC ADVISOR      F   \n",
       "51                       Gui, Liangyan                   RES ASST PROF      F   \n",
       "52            Gulley, Adrienne Monique     ICAN PRGM COORD & ACAD ADVR      F   \n",
       "54                        Gunter, Elsa                        RES PROF      F   \n",
       "61                        He, Jing Rui                      ASSOC PROF      F   \n",
       "64        Hockenmaier, Julia Constanze                            PROF      F   \n",
       "68                          Huang, Yun                      ASSOC PROF      F   \n",
       "70        Jabbarvand Behrouz, Reyhaneh                       ASST PROF      F   \n",
       "71                   Jagoda, Lisa Rene      GRAD PRGM SPEC & ACAD ADVR      F   \n",
       "72                            Ji, Heng                            PROF      F   \n",
       "75          Karahalios, Kyratso George                       PROF, CSL      F   \n",
       "78                   Khurana, Dakshita                       ASST PROF      F   \n",
       "83              Kravets, Robin Hillary                       PROF, CSL      F   \n",
       "85                     Kumar, Ranjitha                      ASSOC PROF      F   \n",
       "87                  Lazebnik, Svetlana                            PROF      F   \n",
       "89                Lewis, Colleen Marie                      ASSOC PROF      F   \n",
       "90                              Li, Bo                CHAIR STATISTICS      F   \n",
       "91                         Liu, Hongye                   TCH ASST PROF      F   \n",
       "95       Marmon, Desiree Chantal Irene      GRAD PRGM SPEC & ACAD ADVR      F   \n",
       "96               Martinez, Christine J           COORD OF ONLINE PRGMS      F   \n",
       "97                         Mehta, Ruta                  ASST PROF, CSL      F   \n",
       "100                 Milenkovic, Olgica                       PROF, CSL      F   \n",
       "104                    Mittal, Radhika                  ASST PROF, CSL      F   \n",
       "112            Phelps, Cassandra Renee                       ACAD ADVR      F   \n",
       "116                 Ringer, Talia Lily                       ASST PROF      F   \n",
       "117                     Rose, Jennifer                       ACAD ADVR      F   \n",
       "124            Silva, Mariana Teixeira                  TCH ASSOC PROF      F   \n",
       "129       Soltanaghaei Koupaei, Elaheh                  ASST PROF, CSL      F   \n",
       "131                      Tahboub, Ruby                   TCH ASST PROF      F   \n",
       "145            Wellens, Michelle Renee  SR DIR COMNC & CONSTIT ENGAGMT      F   \n",
       "146                Williams, Tiffani L             DIR OF ONRAMP PRGMS      F   \n",
       "155                      Zike, Heather    UGRAD PRGM COORD & ACAD ADVR      F   \n",
       "157      Anderson Bliss, Jennifer Mary                ACADEMIC ADVISOR      F   \n",
       "162                     Deeke, Julie M                   TCH ASST PROF      F   \n",
       "165            Ellison, Victoria Marie                   TCH ASST PROF      F   \n",
       "167                Flanagan, Karle Ann                   SR INSTRUCTOR      F   \n",
       "\n",
       "    Tenure Empl Class  Present FTE  Proposed FTE  Present Salary  \\\n",
       "1      NaN        NaN          1.0           1.0       218504.00   \n",
       "4      NaN        NaN          1.0           1.0       272500.00   \n",
       "17     NaN         BA          1.0           1.0        50103.00   \n",
       "20     NaN        NaN          1.0           1.0       168052.77   \n",
       "21       P         AA          1.0           1.0       125000.00   \n",
       "22     NaN         BA          1.0           1.0       117936.00   \n",
       "23     NaN         BA          1.0           1.0        50000.00   \n",
       "25       P         AA          1.0           1.0       135000.00   \n",
       "31     NaN        NaN          1.0           1.0       138000.00   \n",
       "32     NaN        NaN          1.0           1.0       131225.00   \n",
       "40     NaN        NaN          1.0           1.0       140332.00   \n",
       "45       M         AA          1.0           1.0       105575.00   \n",
       "47     NaN        NaN          1.0           1.0       122184.78   \n",
       "49     NaN         BA          1.0           1.0        56545.00   \n",
       "51     NaN         AA          1.0           1.0       100000.00   \n",
       "52     NaN         BA          1.0           1.0        63000.00   \n",
       "54     NaN        NaN          1.0           1.0       165862.00   \n",
       "61     NaN        NaN          1.0           1.0       138000.00   \n",
       "64     NaN        NaN          1.0           1.0       167000.00   \n",
       "68     NaN        NaN          1.0           1.0        96900.00   \n",
       "70       P         AA          1.0           1.0       127500.00   \n",
       "71     NaN         BA          1.0           1.0        50103.00   \n",
       "72       A         AA          1.0           1.0       176800.00   \n",
       "75     NaN        NaN          1.0           1.0       176955.00   \n",
       "78       P         AA          1.0           1.0       127500.00   \n",
       "83     NaN        NaN          1.0           1.0       181267.00   \n",
       "85     NaN        NaN          1.0           1.0       142500.00   \n",
       "87       A         AA          1.0           1.0       167000.00   \n",
       "89       A         AA          1.0           1.0       140600.00   \n",
       "90     NaN        NaN          1.0           1.0       127500.00   \n",
       "91       M         AA          1.0           1.0       105063.00   \n",
       "95     NaN         BA          1.0           1.0        51105.00   \n",
       "96     NaN         BA          1.0           1.0        63344.00   \n",
       "97     NaN        NaN          1.0           1.0       129540.00   \n",
       "100    NaN        NaN          1.0           1.0       167249.00   \n",
       "104    NaN        NaN          1.0           1.0       114580.00   \n",
       "112    NaN         BA          1.0           1.0        48500.00   \n",
       "116      P         AA          1.0           1.0       125000.00   \n",
       "117    NaN         BA          1.0           1.0        50000.00   \n",
       "124      M         AA          1.0           1.0       123000.00   \n",
       "129    NaN        NaN          1.0           1.0       125000.00   \n",
       "131    NaN         AA          1.0           1.0       135000.00   \n",
       "145    NaN         BA          1.0           1.0       119831.70   \n",
       "146    NaN        NaN          1.0           1.0       178172.00   \n",
       "155    NaN         BA          1.0           1.0        62968.40   \n",
       "157    NaN         BA          1.0           1.0        52147.50   \n",
       "162    NaN         AA          1.0           1.0        87000.00   \n",
       "165    NaN         AA          1.0           1.0        86700.00   \n",
       "167    NaN         AA          1.0           1.0        81583.90   \n",
       "\n",
       "     Proposed Salary College Code             College Name  Department Code  \\\n",
       "1          230000.00           KP     Grainger Engineering              434   \n",
       "4          289238.00           KP     Grainger Engineering              434   \n",
       "17          52107.00           KP     Grainger Engineering              434   \n",
       "20         173130.85           KP     Grainger Engineering              434   \n",
       "21         130625.00           KP     Grainger Engineering              434   \n",
       "22         122948.00           KP     Grainger Engineering              434   \n",
       "23          51875.00           KP     Grainger Engineering              434   \n",
       "25         135000.00           KP     Grainger Engineering              434   \n",
       "31         143533.80           KP     Grainger Engineering              434   \n",
       "32         136841.00           KP     Grainger Engineering              434   \n",
       "40         168750.00           KP     Grainger Engineering              434   \n",
       "45         110326.00           KP     Grainger Engineering              434   \n",
       "47         137000.00           KP     Grainger Engineering              434   \n",
       "49          59231.00           KP     Grainger Engineering              434   \n",
       "51         104500.00           KP     Grainger Engineering              434   \n",
       "52          65678.00           KP     Grainger Engineering              434   \n",
       "54         172988.00           KP     Grainger Engineering              434   \n",
       "61         143533.80           KP     Grainger Engineering              434   \n",
       "64         174515.00           KP     Grainger Engineering              434   \n",
       "68         112097.74           KP     Grainger Engineering              434   \n",
       "70         133238.00           KP     Grainger Engineering              434   \n",
       "71          52107.00           KP     Grainger Engineering              434   \n",
       "72         184756.00           KP     Grainger Engineering              434   \n",
       "75         184033.00           KP     Grainger Engineering              434   \n",
       "78         133238.00           KP     Grainger Engineering              434   \n",
       "83         189087.00           KP     Grainger Engineering              434   \n",
       "85         148913.00           KP     Grainger Engineering              434   \n",
       "87         174515.00           KP     Grainger Engineering              434   \n",
       "89         146927.00           KP     Grainger Engineering              434   \n",
       "90         133238.00           KP     Grainger Engineering              434   \n",
       "91         109791.00           KP     Grainger Engineering              434   \n",
       "95          53149.00           KP     Grainger Engineering              434   \n",
       "96          63344.00           KP     Grainger Engineering              434   \n",
       "97         135369.00           KP     Grainger Engineering              434   \n",
       "100        174332.00           KP     Grainger Engineering              434   \n",
       "104        122213.00           KP     Grainger Engineering              434   \n",
       "112         50440.00           KP     Grainger Engineering              434   \n",
       "116        130625.00           KP     Grainger Engineering              434   \n",
       "117         52000.00           KP     Grainger Engineering              434   \n",
       "124        128535.00           KP     Grainger Engineering              434   \n",
       "129        130625.00           KP     Grainger Engineering              434   \n",
       "131        135000.00           KP     Grainger Engineering              434   \n",
       "145        124924.70           KP     Grainger Engineering              434   \n",
       "146        185178.00           KP     Grainger Engineering              434   \n",
       "155         65487.40           KP     Grainger Engineering              434   \n",
       "157         53972.66           KV  Liberal Arts & Sciences              583   \n",
       "162         90045.00           KV  Liberal Arts & Sciences              583   \n",
       "165         90134.50           KV  Liberal Arts & Sciences              583   \n",
       "167         85255.18           KV  Liberal Arts & Sciences              583   \n",
       "\n",
       "      Department Name  \n",
       "1    Computer Science  \n",
       "4    Computer Science  \n",
       "17   Computer Science  \n",
       "20   Computer Science  \n",
       "21   Computer Science  \n",
       "22   Computer Science  \n",
       "23   Computer Science  \n",
       "25   Computer Science  \n",
       "31   Computer Science  \n",
       "32   Computer Science  \n",
       "40   Computer Science  \n",
       "45   Computer Science  \n",
       "47   Computer Science  \n",
       "49   Computer Science  \n",
       "51   Computer Science  \n",
       "52   Computer Science  \n",
       "54   Computer Science  \n",
       "61   Computer Science  \n",
       "64   Computer Science  \n",
       "68   Computer Science  \n",
       "70   Computer Science  \n",
       "71   Computer Science  \n",
       "72   Computer Science  \n",
       "75   Computer Science  \n",
       "78   Computer Science  \n",
       "83   Computer Science  \n",
       "85   Computer Science  \n",
       "87   Computer Science  \n",
       "89   Computer Science  \n",
       "90   Computer Science  \n",
       "91   Computer Science  \n",
       "95   Computer Science  \n",
       "96   Computer Science  \n",
       "97   Computer Science  \n",
       "100  Computer Science  \n",
       "104  Computer Science  \n",
       "112  Computer Science  \n",
       "116  Computer Science  \n",
       "117  Computer Science  \n",
       "124  Computer Science  \n",
       "129  Computer Science  \n",
       "131  Computer Science  \n",
       "145  Computer Science  \n",
       "146  Computer Science  \n",
       "155  Computer Science  \n",
       "157        Statistics  \n",
       "162        Statistics  \n",
       "165        Statistics  \n",
       "167        Statistics  "
      ]
     },
     "execution_count": 92,
     "metadata": {},
     "output_type": "execute_result"
    }
   ],
   "source": [
    "STAT_CS_F =  STAT_CS_df[STAT_CS_df.Gender == \"F\"]\n",
    "STAT_CS_F"
   ]
  },
  {
   "cell_type": "markdown",
   "metadata": {},
   "source": [
    "### 🔬 Test Case Checkpoint 🔬"
   ]
  },
  {
   "cell_type": "code",
   "execution_count": 93,
   "metadata": {},
   "outputs": [
    {
     "name": "stdout",
     "output_type": "stream",
     "text": [
      "🎉 All tests passed! 🎉\n"
     ]
    }
   ],
   "source": [
    "## == TEST CASES for Puzzle 3.1 ==\n",
    "# - This read-only cell contains test cases for your previous cell.\n",
    "# - If this cell runs without any errors, you PASSED all test cases!\n",
    "# - If this cell results in any errors, check your previous cell, make changes, and RE-RUN your code and then this cell.\n",
    "assert(\"STAT_CS_df\" in vars()), \"Ensure you've named your original DataFrame `STAT_CS_df`\"\n",
    "assert(len(STAT_CS_df) == 183), \"This is not the STAT_CS_df you are looking for.\"\n",
    "assert(\"STAT_CS_M\" in vars()), \"Ensure your male subset of STAT_CS_df is named `STAT_CS_M`\"\n",
    "assert(len(STAT_CS_M) == 134), \"Double check your conditional to generate STAT_CS_M - the number of rows is incorrect.\"\n",
    "assert(\"STAT_CS_F\" in vars()), \"Ensure your female subset of STAT_CS_df is named `STAT_CS_F`\"\n",
    "assert(len(STAT_CS_F) == 49), \"Double check your conditional to generate STAT_CS_F - the number of rows is incorrect.\"\n",
    "\n",
    "## == SUCCESS MESSAGE ==\n",
    "# You will only see this message (with the emoji showing) if you passed all test cases:\n",
    "tada = \"\\N{PARTY POPPER}\"\n",
    "print(f\"{tada} All tests passed! {tada}\")"
   ]
  },
  {
   "attachments": {},
   "cell_type": "markdown",
   "metadata": {},
   "source": [
    "### Puzzle 3.2: Merging Two Columns into One DataFrame\n",
    "\n",
    "To create a new DataFrame containing only the data you found above, the following provided line of code creates `df_salary_by_gender`:"
   ]
  },
  {
   "cell_type": "code",
   "execution_count": 94,
   "metadata": {},
   "outputs": [],
   "source": [
    "df_salary_by_gender = pd.DataFrame({\n",
    "    \"female\": STAT_CS_F[\"Present Salary\"],\n",
    "    \"male\": STAT_CS_M[\"Present Salary\"],\n",
    "})"
   ]
  },
  {
   "attachments": {},
   "cell_type": "markdown",
   "metadata": {},
   "source": [
    "Take a look at the DataFrame `df_salary_by_gender`.  Every row will either have data for in the `female` column or the `male` column:"
   ]
  },
  {
   "cell_type": "code",
   "execution_count": 95,
   "metadata": {},
   "outputs": [
    {
     "data": {
      "text/html": [
       "<div>\n",
       "<style scoped>\n",
       "    .dataframe tbody tr th:only-of-type {\n",
       "        vertical-align: middle;\n",
       "    }\n",
       "\n",
       "    .dataframe tbody tr th {\n",
       "        vertical-align: top;\n",
       "    }\n",
       "\n",
       "    .dataframe thead th {\n",
       "        text-align: right;\n",
       "    }\n",
       "</style>\n",
       "<table border=\"1\" class=\"dataframe\">\n",
       "  <thead>\n",
       "    <tr style=\"text-align: right;\">\n",
       "      <th></th>\n",
       "      <th>female</th>\n",
       "      <th>male</th>\n",
       "    </tr>\n",
       "  </thead>\n",
       "  <tbody>\n",
       "    <tr>\n",
       "      <th>0</th>\n",
       "      <td>NaN</td>\n",
       "      <td>208154.00</td>\n",
       "    </tr>\n",
       "    <tr>\n",
       "      <th>1</th>\n",
       "      <td>218504.0</td>\n",
       "      <td>NaN</td>\n",
       "    </tr>\n",
       "    <tr>\n",
       "      <th>2</th>\n",
       "      <td>NaN</td>\n",
       "      <td>218462.00</td>\n",
       "    </tr>\n",
       "    <tr>\n",
       "      <th>3</th>\n",
       "      <td>NaN</td>\n",
       "      <td>105575.00</td>\n",
       "    </tr>\n",
       "    <tr>\n",
       "      <th>4</th>\n",
       "      <td>272500.0</td>\n",
       "      <td>NaN</td>\n",
       "    </tr>\n",
       "    <tr>\n",
       "      <th>...</th>\n",
       "      <td>...</td>\n",
       "      <td>...</td>\n",
       "    </tr>\n",
       "    <tr>\n",
       "      <th>178</th>\n",
       "      <td>NaN</td>\n",
       "      <td>94174.57</td>\n",
       "    </tr>\n",
       "    <tr>\n",
       "      <th>179</th>\n",
       "      <td>NaN</td>\n",
       "      <td>114337.97</td>\n",
       "    </tr>\n",
       "    <tr>\n",
       "      <th>180</th>\n",
       "      <td>NaN</td>\n",
       "      <td>107100.00</td>\n",
       "    </tr>\n",
       "    <tr>\n",
       "      <th>181</th>\n",
       "      <td>NaN</td>\n",
       "      <td>106590.00</td>\n",
       "    </tr>\n",
       "    <tr>\n",
       "      <th>182</th>\n",
       "      <td>NaN</td>\n",
       "      <td>66585.60</td>\n",
       "    </tr>\n",
       "  </tbody>\n",
       "</table>\n",
       "<p>183 rows × 2 columns</p>\n",
       "</div>"
      ],
      "text/plain": [
       "       female       male\n",
       "0         NaN  208154.00\n",
       "1    218504.0        NaN\n",
       "2         NaN  218462.00\n",
       "3         NaN  105575.00\n",
       "4    272500.0        NaN\n",
       "..        ...        ...\n",
       "178       NaN   94174.57\n",
       "179       NaN  114337.97\n",
       "180       NaN  107100.00\n",
       "181       NaN  106590.00\n",
       "182       NaN   66585.60\n",
       "\n",
       "[183 rows x 2 columns]"
      ]
     },
     "execution_count": 95,
     "metadata": {},
     "output_type": "execute_result"
    }
   ],
   "source": [
    "df_salary_by_gender"
   ]
  },
  {
   "attachments": {},
   "cell_type": "markdown",
   "metadata": {},
   "source": [
    "### Puzzle 3.3: Visualization\n",
    "\n",
    "Let's create a visualization! Using the next cell, create a **boxplot** of `df_salary_by_gender` that includes both genders:"
   ]
  },
  {
   "cell_type": "code",
   "execution_count": 100,
   "metadata": {},
   "outputs": [
    {
     "data": {
      "text/plain": [
       "<Axes: >"
      ]
     },
     "execution_count": 100,
     "metadata": {},
     "output_type": "execute_result"
    },
    {
     "data": {
      "image/png": "[encoded data removed]",
      "text/plain": [
       "<Figure size 640x480 with 1 Axes>"
      ]
     },
     "metadata": {},
     "output_type": "display_data"
    }
   ],
   "source": [
    "df_salary_by_gender.plot.box(vert=False)"
   ]
  },
  {
   "attachments": {},
   "cell_type": "markdown",
   "metadata": {},
   "source": [
    "### Puzzle 3.4: EDA, Again\n",
    "\n",
    "Now that we've visualized the data, let's explore some basic statistics once more to gain further insight. \n",
    "\n",
    "In the following cells, calculate:\n",
    "- The **mean** `Present Salary` for **Male** STAT/CS Faculty, storing in the variable `mean_m`\n",
    "- The **median** `Present Salary` for **Male** STAT/CS Faculty, storing in the variable `median_m`\n",
    "- The **standard deviation** of `Present Salary` for **Male** STAT/CS Faculty, storing in the variable `std_m`"
   ]
  },
  {
   "cell_type": "code",
   "execution_count": 101,
   "metadata": {},
   "outputs": [
    {
     "data": {
      "text/plain": [
       "141551.64895522388"
      ]
     },
     "execution_count": 101,
     "metadata": {},
     "output_type": "execute_result"
    }
   ],
   "source": [
    "mean_m = STAT_CS_M[\"Present Salary\"].mean()\n",
    "mean_m"
   ]
  },
  {
   "cell_type": "code",
   "execution_count": 102,
   "metadata": {},
   "outputs": [
    {
     "data": {
      "text/plain": [
       "129540.0"
      ]
     },
     "execution_count": 102,
     "metadata": {},
     "output_type": "execute_result"
    }
   ],
   "source": [
    "median_m = STAT_CS_M[\"Present Salary\"].median()\n",
    "median_m"
   ]
  },
  {
   "cell_type": "code",
   "execution_count": 103,
   "metadata": {},
   "outputs": [
    {
     "data": {
      "text/plain": [
       "49724.45908016619"
      ]
     },
     "execution_count": 103,
     "metadata": {},
     "output_type": "execute_result"
    }
   ],
   "source": [
    "std_m = STAT_CS_M[\"Present Salary\"].std()\n",
    "std_m"
   ]
  },
  {
   "attachments": {},
   "cell_type": "markdown",
   "metadata": {},
   "source": [
    "Now, in the cells below, calculate:\n",
    "\n",
    "- The **mean** `Present Salary` for **Female** STAT/CS Faculty, storing in the variable `mean_f`\n",
    "- The **median** `Present Salary` for **Female** STAT/CS Faculty, storing in the variable `median_f` \n",
    "- The **standard deviation** of `Present Salary` for **Female** STAT/CS Faculty, storing in the variable `std_f`"
   ]
  },
  {
   "cell_type": "code",
   "execution_count": 104,
   "metadata": {},
   "outputs": [
    {
     "data": {
      "text/plain": [
       "120106.71530612247"
      ]
     },
     "execution_count": 104,
     "metadata": {},
     "output_type": "execute_result"
    }
   ],
   "source": [
    "mean_f = STAT_CS_F[\"Present Salary\"].mean()\n",
    "mean_f"
   ]
  },
  {
   "cell_type": "code",
   "execution_count": 105,
   "metadata": {},
   "outputs": [
    {
     "data": {
      "text/plain": [
       "125000.0"
      ]
     },
     "execution_count": 105,
     "metadata": {},
     "output_type": "execute_result"
    }
   ],
   "source": [
    "median_f = STAT_CS_F[\"Present Salary\"].median()\n",
    "median_f"
   ]
  },
  {
   "cell_type": "code",
   "execution_count": 106,
   "metadata": {},
   "outputs": [
    {
     "data": {
      "text/plain": [
       "48603.40721714713"
      ]
     },
     "execution_count": 106,
     "metadata": {},
     "output_type": "execute_result"
    }
   ],
   "source": [
    "std_f = STAT_CS_F[\"Present Salary\"].std()\n",
    "std_f"
   ]
  },
  {
   "cell_type": "markdown",
   "metadata": {},
   "source": [
    "### 🔬 Test Case Checkpoint 🔬"
   ]
  },
  {
   "cell_type": "code",
   "execution_count": 107,
   "metadata": {},
   "outputs": [
    {
     "name": "stdout",
     "output_type": "stream",
     "text": [
      "🎉 All tests passed! 🎉\n"
     ]
    }
   ],
   "source": [
    "## == TEST CASES for Puzzle 3.4 ==\n",
    "# - This read-only cell contains test cases for your previous cell.\n",
    "# - If this cell runs with a message (with the emoji showing), you PASSED all test cases!\n",
    "# - If this cell results in any errors, check your previous cell, make changes, and RE-RUN your code and then this cell.\n",
    "assert ( mean_m - 141551.64895522388 <= 0.01 ), \"Your calculation of the mean Male salary for STAT/CS faculty is incorrect.\"\n",
    "assert ( median_m - 129540.0 <= 0.01 ), \"Your calculation of the median Male salary for STAT/CS faculty is incorrect.\"\n",
    "assert ( std_m - 49724.45908016619 <= 0.01 ), \"Your calculation of the standard deviation of Male salary for STAT/CS faculty is incorrect.\"\n",
    "assert ( mean_f - 120106.71530612247 <= 0.01 ), \"Your calculation of the mean Female salary for STAT/CS faculty is incorrect.\"\n",
    "assert ( median_f - 125000.0 <= 0.01 ), \"Your calculation of the median Female salary for STAT/CS faculty is incorrect.\"\n",
    "assert ( std_f - 48603.40721714713 <= 0.01 ), \"Your calculation of the standard deviation of Female salary for STAT/CS faculty is incorrect.\"\n",
    "\n",
    "## == SUCCESS MESSAGE ==\n",
    "# You will only see this message (with the emoji showing) if you passed all test cases:\n",
    "tada = \"\\N{PARTY POPPER}\"\n",
    "print(f\"{tada} All tests passed! {tada}\")"
   ]
  },
  {
   "cell_type": "markdown",
   "metadata": {},
   "source": [
    "### Analysis: EDA Takeaways"
   ]
  },
  {
   "cell_type": "markdown",
   "metadata": {},
   "source": [
    "**Q: Now that you've calculated descriptive statistics of the `Present Salary` of Male and Female STAT/CS Faculty, how do the numbers support or counter the boxplot observations you made earlier? Can we draw any conclusions about gender-based salary discrimination from our data? Use the analysis you did to support your answer.**"
   ]
  },
  {
   "cell_type": "markdown",
   "metadata": {},
   "source": [
    "The numbers support the boxplot as both the medians line up with the salary we calculated. The numbers are also within range of the box plots. In terms of whether or not we are able to draw any conclusions, I'd say you wouldn't be able to conclude that there is concrete gender-based slary discrimination because this is purely observational. However, there seems to be a general trend in females being compensated much less than the men in this department as although the range of the men's salary goes much lower than the females, the IQR for men is might placed much higher along the values of salaries as opposed to women which suggests that men make more than women on average (also, the range for men go much higher as well)."
   ]
  },
  {
   "cell_type": "markdown",
   "metadata": {},
   "source": [
    "<hr style=\"color: #DD3403;\">"
   ]
  },
  {
   "cell_type": "markdown",
   "metadata": {},
   "source": [
    "## Part 4: Exploring Your Own Interests\n",
    "\n",
    "\n",
    "At this point of the lab, we have investigated a lot of questions.\n",
    "\n",
    "However, these have been questions that **we told you to answer**. As a data scientist, it is important to be able to use the data science skills that you learn in the classroom to answer questions that **you have**.\n",
    "\n",
    "Think about **two questions** that you have about the **Graybook** or **STAT_CS_Gender** datasets that have not been answered. These can be simple questions. Record them below.  Then, answer at least one of these questions using Python and either dataset.  "
   ]
  },
  {
   "attachments": {},
   "cell_type": "markdown",
   "metadata": {},
   "source": [
    "1. What is the average proposed salary for men in the CS/STAT department?\n",
    "2. What is the average proposed salary for women in the CS/STAT department?"
   ]
  },
  {
   "cell_type": "markdown",
   "metadata": {},
   "source": [
    "Now, use the cell below to **find the answer** to **one** of your questions! Remember, it can be something simple. "
   ]
  },
  {
   "cell_type": "code",
   "execution_count": 108,
   "metadata": {},
   "outputs": [
    {
     "data": {
      "text/plain": [
       "126007.97204081633"
      ]
     },
     "execution_count": 108,
     "metadata": {},
     "output_type": "execute_result"
    }
   ],
   "source": [
    "#Average proposed salary for women: \n",
    "\n",
    "STAT_CS_F[\"Proposed Salary\"].mean()"
   ]
  },
  {
   "attachments": {},
   "cell_type": "markdown",
   "metadata": {},
   "source": [
    "**Group Q: Share the question you had and the results with your group.**"
   ]
  },
  {
   "cell_type": "markdown",
   "metadata": {},
   "source": [
    "The average proposed salary for women is around $126k. Compared to the average of their present salaries, it is quite similar, only off by $1000."
   ]
  },
  {
   "cell_type": "markdown",
   "metadata": {},
   "source": [
    "<hr style=\"color: #DD3403;\">"
   ]
  },
  {
   "cell_type": "markdown",
   "metadata": {},
   "source": [
    "## Part 5: Beyond DISCOVERY\n",
    "\n",
    "As a data scientist, it is important to think about the implications of collecting and not collecting certain data.  Data that is **not** collected in an analysis is called *counter data*.  \n",
    "\n",
    "Many times, data is collected to make a profit.  Data has even been referred to as “the new oil” because it is oftentimes seen as an uncapped natural resource and if you can figure out how to capture and refine it, it can lead to a massive profit.\n",
    "\n",
    "It’s important to think about **who** data analysis can benefit and who it can harm.  It’s also important to think about **why** the data is collected and why counter data is not collected.  \n",
    "\n",
    "\n",
    "**Individual Q: Write a paragraph style response (at least 5 complete sentences) summarizing your takeaways from working with the salary data in this lab. We have listed a few questions below to give you some ideas on what to write about if you need them.**\n",
    "\n",
    "- What is some counter data that you’d like to collect in regard to salaries? Why do you think it’s important to collect this data?  \n",
    "- Who benefits from collecting this salary data?  Who does this data harm?\n",
    "- Why do you think this salary data is public? Can you think of any reasons that this could be problematic? \n",
    "- What did you learn from looking at the salaries stratified by gender?"
   ]
  },
  {
   "attachments": {},
   "cell_type": "markdown",
   "metadata": {},
   "source": [
    "Overall after working with the salary data in this lab, I find it oddly illuminating. I had always had this idea in my head that most professors and faculty in universities made well over $150k starting, so when I saw that the average was around $90k or so, I was a little surprised (by no means is $90k a small sum of money). I think this salary data can help benefit university staff as they can see what the average is and maybe use it as leverage to demand more compensation, which I'd assume the university wouldn't necessarily be open to. I believe the reason this data is public is because the university is public. I would say that public salaries are overall a good thing as they can help make sure people aren't being undercompensated or overcompensated. After stratifying by gender, I learned that overall, women are compensated less than men are and that there is a gender wage-gap problem."
   ]
  },
  {
   "cell_type": "markdown",
   "metadata": {},
   "source": [
    "<hr style=\"color: #DD3403;\">"
   ]
  },
  {
   "cell_type": "markdown",
   "metadata": {},
   "source": [
    "## **Submission** \n",
    "\n",
    "\n",
    "You're almost done! All you need to do is to commit your lab to GitHub:\n",
    "\n",
    "1. Make certain to save your work. To do this, go to **File => Save All**\n",
    "\n",
    "2. After you have saved, exit this notebook and follow the Canvas instructions to commit this lab to your Git repository!\n",
    "\n",
    "3. Your TA will grade your submission and provide you feedback after the lab is due. :)"
   ]
  }
 ],
 "metadata": {
  "kernelspec": {
   "display_name": "Python 3",
   "language": "python",
   "name": "python3"
  },
  "language_info": {
   "codemirror_mode": {
    "name": "ipython",
    "version": 3
   },
   "file_extension": ".py",
   "mimetype": "text/x-python",
   "name": "python",
   "nbconvert_exporter": "python",
   "pygments_lexer": "ipython3",
   "version": "3.11.6"
  },
  "vscode": {
   "interpreter": {
    "hash": "f48b0ea9e8281b29b1f9b6045fc5406bb9891af892053a27454c097f6ae51d2c"
   }
  }
 },
 "nbformat": 4,
 "nbformat_minor": 2
}
